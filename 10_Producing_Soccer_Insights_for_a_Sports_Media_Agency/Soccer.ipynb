{
 "cells": [
  {
   "cell_type": "markdown",
   "id": "7e7cc6f7-b800-428c-a16d-b0ddd49cfe7e",
   "metadata": {},
   "source": [
    "## Task 1"
   ]
  },
  {
   "cell_type": "code",
   "execution_count": null,
   "id": "155643d2-29fc-43f4-90b3-80944b343b57",
   "metadata": {},
   "outputs": [],
   "source": [
    "-- TEAM_HOME_WITH_MOST_GOALS\n",
    "SELECT SOCCER.TBL_UEFA_2020.TEAM_NAME_HOME, \n",
    "\tSOCCER.TBL_UEFA_2020.TEAM_HOME_SCORE,\n",
    "FROM SOCCER.TBL_UEFA_2020\n",
    "ORDER BY SOCCER.TBL_UEFA_2020.TEAM_HOME_SCORE DESC\n",
    "LIMIT 3;"
   ]
  },
  {
   "cell_type": "markdown",
   "id": "f813f8b3-ab2f-4445-83c2-a488b312b02f",
   "metadata": {},
   "source": [
    "## Task 2"
   ]
  },
  {
   "cell_type": "code",
   "execution_count": null,
   "id": "f3b3e84d-6ea1-4255-bd0d-9bd004406696",
   "metadata": {},
   "outputs": [],
   "source": [
    "-- TEAM_WITH_MAJORITY_POSSESSION\n",
    "SELECT \n",
    "\tCASE \n",
    "\t    WHEN SOCCER.TBL_UEFA_2021.POSSESSION_HOME > SOCCER.TBL_UEFA_2021.POSSESSION_AWAY THEN TEAM_NAME_HOME\n",
    "\t    WHEN SOCCER.TBL_UEFA_2021.POSSESSION_AWAY > SOCCER.TBL_UEFA_2021.POSSESSION_HOME THEN TEAM_NAME_AWAY\n",
    "\t    ELSE NULL END AS TEAM_NAME,\n",
    "\t  COUNT(*) AS GAME_COUNT\n",
    "FROM SOCCER.TBL_UEFA_2021\n",
    "GROUP BY TEAM_NAME\n",
    "ORDER BY GAME_COUNT DESC\n",
    "LIMIT 1;"
   ]
  },
  {
   "cell_type": "markdown",
   "id": "53ee41e1-af00-4e77-9222-0f29e443ff42",
   "metadata": {},
   "source": [
    "## Task 3"
   ]
  },
  {
   "cell_type": "code",
   "execution_count": null,
   "id": "ad599685-1d24-4310-b33c-8097fd6e3c99",
   "metadata": {},
   "outputs": [],
   "source": [
    "-- TEAM_WON_DUEL_LOST_GAME_STAGE_WISE\n",
    "SELECT STAGE,\n",
    "\tCASE\n",
    "        WHEN SOCCER.TBL_UEFA_2022.DUELS_WON_HOME > SOCCER.TBL_UEFA_2022.DUELS_WON_AWAY AND TEAM_HOME_SCORE < TEAM_AWAY_SCORE THEN TEAM_NAME_HOME\n",
    "        WHEN SOCCER.TBL_UEFA_2022.DUELS_WON_AWAY > SOCCER.TBL_UEFA_2022.DUELS_WON_HOME AND TEAM_AWAY_SCORE < TEAM_HOME_SCORE THEN TEAM_NAME_AWAY\n",
    "        ELSE NULL \n",
    "\tEND AS TEAM_LOST    \n",
    "FROM SOCCER.TBL_UEFA_2022\n",
    "WHERE TEAM_LOST IS NOT NULL;"
   ]
  },
  {
   "cell_type": "code",
   "execution_count": null,
   "id": "cd4db9c8-a84a-4b9f-b54a-9b6350a2bffe",
   "metadata": {},
   "outputs": [],
   "source": []
  }
 ],
 "metadata": {
  "kernelspec": {
   "display_name": "Python 3 (ipykernel)",
   "language": "python",
   "name": "python3"
  },
  "language_info": {
   "codemirror_mode": {
    "name": "ipython",
    "version": 3
   },
   "file_extension": ".py",
   "mimetype": "text/x-python",
   "name": "python",
   "nbconvert_exporter": "python",
   "pygments_lexer": "ipython3",
   "version": "3.9.13"
  }
 },
 "nbformat": 4,
 "nbformat_minor": 5
}
