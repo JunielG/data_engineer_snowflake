{
 "cells": [
  {
   "cell_type": "markdown",
   "id": "8eec6ce3-6bb0-4f21-9772-91f409521987",
   "metadata": {},
   "source": [
    "## What is Snowflake?"
   ]
  },
  {
   "cell_type": "code",
   "execution_count": null,
   "id": "2a765fec-6c60-4ca5-a77d-07fe55a19cb5",
   "metadata": {},
   "outputs": [],
   "source": []
  },
  {
   "cell_type": "markdown",
   "id": "5038ae3d-076f-4665-b2e5-f8a04693ba63",
   "metadata": {},
   "source": [
    "## Executing a query and viewing the results"
   ]
  },
  {
   "cell_type": "markdown",
   "id": "488ff794-fd59-4157-b1f9-69accd99216e",
   "metadata": {},
   "source": [
    "### Analyzing the sales amount\n",
    "Learn how to run an aggregated query and interpret the findings. The SALES_TRANSACTIONS table is under database COURSE_39090 in the STUDENT_STORE schema ."
   ]
  },
  {
   "cell_type": "code",
   "execution_count": null,
   "id": "f5a50289-a472-4505-8a59-e39945efc776",
   "metadata": {},
   "outputs": [],
   "source": [
    "SELECT SUM(AMOUNT) FROM SALES_TRANSACTIONS;"
   ]
  },
  {
   "cell_type": "markdown",
   "id": "44861853-bd56-4b93-a6b4-c6685c87b296",
   "metadata": {},
   "source": [
    "### Investigating product categories\n",
    "It can be very useful to have multiple SQL worksheets to organize your analysis. Let's create your second worksheet and dive deeper into the data."
   ]
  },
  {
   "cell_type": "code",
   "execution_count": null,
   "id": "76af6927-2f06-4e16-a9c2-b74dd6c694d0",
   "metadata": {},
   "outputs": [],
   "source": [
    "SELECT SUM(PRODUCT_CATEGORY) FROM SALES_TRANSACTIONS;"
   ]
  },
  {
   "cell_type": "markdown",
   "id": "ceba829e-72e9-4a1f-8aa9-fbe55e855c66",
   "metadata": {},
   "source": [
    "## Monitoring Query and Copy History"
   ]
  },
  {
   "cell_type": "code",
   "execution_count": null,
   "id": "a41080f4-f58b-4cc2-9315-d31f656cf58b",
   "metadata": {},
   "outputs": [],
   "source": [
    "SELECT product, amount\n",
    "FROM SALES_TRANSACTIONS\n",
    "GROUP BY product, amount \n",
    "ORDER BY amount DESC;"
   ]
  },
  {
   "cell_type": "markdown",
   "id": "976ccadb-d603-4f52-b9ad-7f4c4acfb19c",
   "metadata": {},
   "source": [
    "### Exploring Python Worksheets\n",
    "You've learned how to write some queries in SQL, but Snowflake can do much more than that! In this exercise you'll create your first Python Worksheet and execute your first lines of Python code. Don't worry if you don't know how to code, we'll provide the code for you."
   ]
  },
  {
   "cell_type": "code",
   "execution_count": null,
   "id": "a130edfe-5f23-492d-a54a-ae6da9db81b7",
   "metadata": {},
   "outputs": [],
   "source": []
  }
 ],
 "metadata": {
  "kernelspec": {
   "display_name": "Python 3 (ipykernel)",
   "language": "python",
   "name": "python3"
  },
  "language_info": {
   "codemirror_mode": {
    "name": "ipython",
    "version": 3
   },
   "file_extension": ".py",
   "mimetype": "text/x-python",
   "name": "python",
   "nbconvert_exporter": "python",
   "pygments_lexer": "ipython3",
   "version": "3.9.13"
  }
 },
 "nbformat": 4,
 "nbformat_minor": 5
}
