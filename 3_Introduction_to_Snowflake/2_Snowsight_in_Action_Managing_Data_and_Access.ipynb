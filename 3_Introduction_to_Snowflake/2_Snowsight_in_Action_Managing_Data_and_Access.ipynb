{
 "cells": [
  {
   "cell_type": "markdown",
   "id": "8c35cc38-08d3-4b3d-898c-18eec5a35e22",
   "metadata": {},
   "source": [
    "## Loading Data from Snowflake Marketplace"
   ]
  },
  {
   "cell_type": "code",
   "execution_count": null,
   "id": "a1802cfb-af39-41b8-a523-a2981751d05e",
   "metadata": {},
   "outputs": [],
   "source": []
  }
 ],
 "metadata": {
  "kernelspec": {
   "display_name": "Python 3 (ipykernel)",
   "language": "python",
   "name": "python3"
  },
  "language_info": {
   "codemirror_mode": {
    "name": "ipython",
    "version": 3
   },
   "file_extension": ".py",
   "mimetype": "text/x-python",
   "name": "python",
   "nbconvert_exporter": "python",
   "pygments_lexer": "ipython3",
   "version": "3.9.13"
  }
 },
 "nbformat": 4,
 "nbformat_minor": 5
}
