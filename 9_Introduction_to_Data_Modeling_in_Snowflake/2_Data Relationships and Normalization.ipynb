{
 "cells": [
  {
   "cell_type": "markdown",
   "id": "e2d1b1e6-bfa2-4df3-a197-30e48690deff",
   "metadata": {},
   "source": [
    "## Keys for Data Relationship"
   ]
  },
  {
   "cell_type": "markdown",
   "id": "752b0523-6628-4872-8286-9341a7f757f8",
   "metadata": {},
   "source": [
    "#### Terminology and functions overview \n",
    "- Relational data: Structured data organized into individual entities and keys that establish relationships between them\n",
    "- ALTER TABLE: SQL command used to modify the structure of an existing entity\n",
    "- ADD: SQL command, used with ALTER TABLE, to add new elements to the entity"
   ]
  },
  {
   "cell_type": "code",
   "execution_count": null,
   "id": "3ebe01bb-68d6-44cd-9257-1e87f120419f",
   "metadata": {},
   "outputs": [],
   "source": [
    "ALTER TABLE table_name \n",
    "ADD COLUMN column_name column_datatype; \n",
    "\n",
    "ALTER TABLE table_name \n",
    "ADD PRIMARY KEY (column_name);\n",
    "\n",
    "ALTER TABLE table_name \n",
    "ADD FOREIGN KEY (column_name) REFERENCES foreign_table(PK_from_foreign_table);"
   ]
  },
  {
   "cell_type": "markdown",
   "id": "8fb1875f-95b6-44bf-9f9a-01df848bdf3d",
   "metadata": {},
   "source": [
    "### Altering an entity\n",
    "Imagine the business has decided to track more contact details for each fruit product supplier. This information is crucial for businesses like quality control and supply chain management.\n",
    "\n",
    "Your task is to adapt the suppliers entity to have all the required attributes and a well-identified key so that you can relate later suppliers to the rest of the data model."
   ]
  },
  {
   "cell_type": "code",
   "execution_count": null,
   "id": "5db8cdb0-4e3d-418f-b23f-0b4f6b994918",
   "metadata": {},
   "outputs": [],
   "source": [
    "-- Alter suppliers table\n",
    "ALTER TABLE suppliers\n",
    "-- Add new column\n",
    "ADD COLUMN IF NOT EXISTS region VARCHAR(255);\n",
    "\n",
    "-- Alter suppliers table\n",
    "ALTER TABLE suppliers\n",
    "-- Add the new column\n",
    "ADD COLUMN IF NOT EXISTS contact VARCHAR(255);\n",
    "\n",
    "-- Alter suppliers table\n",
    "ALTER TABLE suppliers\n",
    "-- Assign the unique identifier\n",
    "ADD PRIMARY KEY (supplier_id);"
   ]
  },
  {
   "cell_type": "markdown",
   "id": "95fa78b2-d3cb-42ba-8c6d-1241e77bac3d",
   "metadata": {},
   "source": [
    "### Adjusting the model\n",
    "Cocofarm is a business specializing in chocolate review and analysis. They use the productqualityrating entity as part of their data model. This entity contains comprehensive data about various chocolate bars, including their manufacturers, place of production, reviews, bean origin, cocoa percentage, ingredients, and ratings. The business uses this data to provide detailed reviews and quality ratings of chocolate, helping consumers and professionals make informed choices.\n",
    "\n",
    "The business has decided to enhance its review process by adding production batch details for each chocolate product. Your task is to adapt the existing data model to include these production batch details and establish a relationship between that new entity and the current product quality rating."
   ]
  },
  {
   "cell_type": "code",
   "execution_count": null,
   "id": "584854d0-2330-438f-8b9f-8be7e1608cd5",
   "metadata": {},
   "outputs": [],
   "source": [
    "-- Create entity\n",
    "CREATE OR REPLACE TABLE batchdetails (\n",
    "\t-- Add numerical attribute\n",
    "\tbatch_id NUMBER(10, 0),\n",
    "\t-- Add characters attributes\n",
    "    batch_number VARCHAR(255),\n",
    "    production_notes VARCHAR(255)\n",
    "); \n",
    "\n",
    "-- Modify the entity\n",
    "ALTER TABLE productqualityrating\n",
    "-- Add new column\n",
    "ADD COLUMN IF NOT EXISTS batch_id NUMBER(10,0);"
   ]
  },
  {
   "cell_type": "markdown",
   "id": "3c56cddd-4b73-4447-80a3-e572aa990c15",
   "metadata": {},
   "source": [
    "## Normalizing Relational Data\n",
    "- Unnormalized data (UNF): Data that might lacks a structure, be disorganized, containsrepetitions and/or anomalies"
   ]
  },
  {
   "cell_type": "code",
   "execution_count": null,
   "id": "5031a728-4665-428b-b3c7-28bef48f6a36",
   "metadata": {},
   "outputs": [],
   "source": [
    "# Identifying unnormalized data \n",
    "SELECT manufacturer_id,       \n",
    "manufacturer_name,      \n",
    "location, COUNT(*) AS repetitions\n",
    "FROM allproducts \n",
    "GROUP BY manufacturer_id, manufacturer_name, location \n",
    "HAVING COUNT(*) >1;"
   ]
  },
  {
   "cell_type": "code",
   "execution_count": null,
   "id": "9f45d715-447d-409f-b5f2-7b8f4a805dc9",
   "metadata": {},
   "outputs": [],
   "source": [
    "-- Querying unique values while being filtered by a specific condition \n",
    "SELECT DISTINCT column_name\n",
    "FROM table_name \n",
    "WHERE column_name condition value; \n",
    "\n",
    "\n",
    "-- Counting the values aggregated by a specific column while filtering the results\n",
    "SELECT column_name, \n",
    "COUNT(*) AS alias_name \n",
    "FROM table_name \n",
    "GROUP BY column_name\n",
    "HAVING COUNT(*) condition value;"
   ]
  },
  {
   "cell_type": "markdown",
   "id": "9d7535f5-04d8-436e-bcd4-a2321596b894",
   "metadata": {},
   "source": [
    "### Identifying Data Redundancy\n",
    "Businesses thrive on efficient data management, and identifying data redundancy is crucial for maintaining an organized and cost-effective data model. Redundant data can take up unnecessary space and complicate processes.\n",
    "\n",
    "Your task is to identify redundancy for product quality rating data, the business has collected over their product and the manufacturers, which differs from delicious chocolate bars and each manufacturer has their own characteristics.\n",
    "\n",
    "This step is essential to identifying unnormalized data, getting ready for the normalization step, and streamlining the storage of your data model."
   ]
  },
  {
   "cell_type": "code",
   "execution_count": null,
   "id": "ac33fe95-bd10-435e-b520-b51d3b596a39",
   "metadata": {},
   "outputs": [],
   "source": [
    "-- List all values from the attribute\n",
    "SELECT manufacturer,\n",
    "\tcompany_location\n",
    "-- Read all these values from the entity \n",
    "FROM productqualityrating;"
   ]
  },
  {
   "cell_type": "code",
   "execution_count": null,
   "id": "bed69155-8a23-4bdb-a356-fda34c4cd83b",
   "metadata": {},
   "outputs": [],
   "source": [
    "SELECT manufacturer, \n",
    "\tcompany_location,\n",
    "\t-- Add a count of all the records, and set an alias for it\n",
    "\tCOUNT(*) AS product_count\n",
    "FROM productqualityrating \n",
    "-- Aggregate the results\n",
    "GROUP BY manufacturer,\n",
    "company_location;"
   ]
  },
  {
   "cell_type": "code",
   "execution_count": null,
   "id": "6132337b-1991-4722-8bbc-77970b4e58ca",
   "metadata": {},
   "outputs": [],
   "source": [
    "SELECT manufacturer, \n",
    "\tcompany_location, \n",
    "\tCOUNT(*) AS product_count\n",
    "FROM productqualityrating\n",
    "GROUP BY manufacturer, \n",
    "\tcompany_location\n",
    "-- Add a filter for occurrence count greater than 1\n",
    "HAVING COUNT(*) > 1;"
   ]
  },
  {
   "cell_type": "markdown",
   "id": "414d5661-99ab-4cae-aeb6-efdab5368ddb",
   "metadata": {},
   "source": [
    "### Spotting Anomalies\n",
    "The company has set a standard after 2006 that all 'Arriba' chocolate bars from the same manufacturer must have the same cocoa percentage and ingredients.\n",
    "\n",
    "The business will need to update any record that is not compliant. And want to implement these updates quickly and efficiently.\n",
    "\n",
    "Your task is to ensure that the data complies with this standard. You need to review the data to ensure no anomalies limit updating the records."
   ]
  },
  {
   "cell_type": "code",
   "execution_count": null,
   "id": "c07e1990-5f62-4d13-844a-67e74d9f5b4b",
   "metadata": {},
   "outputs": [],
   "source": [
    "-- Select the different values for the attributes list\n",
    "SELECT DISTINCT manufacturer,\n",
    "\tcocoa_percent, \n",
    "    ingredients\n",
    "FROM productqualityrating\n",
    "-- Add filter for attribute referring to name\n",
    "WHERE bar_name = 'Arriba'\n",
    "\t-- Add filter for attribute referring to year\n",
    "\tAND year_reviewed > 2006;"
   ]
  },
  {
   "cell_type": "code",
   "execution_count": null,
   "id": "b49b6bf4-bd76-42df-9d06-e74731f83964",
   "metadata": {},
   "outputs": [],
   "source": [
    "SELECT manufacturer, \n",
    "\t-- Add count of distinct combinations, and add alias to it\n",
    "\tCOUNT(DISTINCT cocoa_percent, ingredients) AS distinct_combinations\n",
    "FROM productqualityrating\n",
    "WHERE bar_name = 'Arriba' \n",
    "    AND year_reviewed > 2006 \n",
    "-- Group the results    \n",
    "GROUP BY manufacturer;"
   ]
  },
  {
   "cell_type": "code",
   "execution_count": null,
   "id": "02fc6b00-2f43-47fe-921a-d64065a19df6",
   "metadata": {},
   "outputs": [],
   "source": [
    "SELECT manufacturer, \n",
    "\tCOUNT(DISTINCT cocoa_percent, ingredients) AS distinct_combinations\n",
    "FROM productqualityrating\n",
    "WHERE bar_name = 'Arriba' \n",
    "    AND year_reviewed > 2006 \n",
    "GROUP BY manufacturer\n",
    "-- Add the clause to filter\n",
    "HAVING COUNT(*) > 1;"
   ]
  },
  {
   "cell_type": "markdown",
   "id": "b8effc58-bca2-4e70-8cf5-08fac1908711",
   "metadata": {},
   "source": [
    "## The First Norm"
   ]
  },
  {
   "cell_type": "code",
   "execution_count": null,
   "id": "fc93f75e-6342-4d68-88a7-827d075a919e",
   "metadata": {},
   "outputs": [],
   "source": [
    "-- Fill a entity with data from a query result\n",
    "INSERT INTO table_name (column_name, other_columns) \n",
    "SELECT\n",
    "-- Generate a unique value using the row number \n",
    "ROW_NUMBER() OVER (ORDER BY TRIM(alias.value)),\n",
    "TRIM(alias.value) \n",
    "FROM another_table,\n",
    "-- Split a text attribute value based on a delimiter \n",
    "LATERAL FLATTEN(INPUT => SPLIT(another_table.column_name, 'delimiter_value')) alias\n",
    "-- Aggregate the data to ensure uniqueness of values\n",
    "GROUP BY TRIM(alias.value);"
   ]
  },
  {
   "cell_type": "markdown",
   "id": "8bd05d90-9fec-4d8d-bf88-c8aa3eed02c0",
   "metadata": {},
   "source": [
    "### Creating 1NF entities\n",
    "Previously, you have learned about the disadvantages of unnormalized data and the benefits of relational data with normalized data. It is time to apply it to the productqualityrating entity.\n",
    "\n",
    "To ensure that the data model complies with the first normal form, breaking the repeating groups and eliminating them is necessary. productqualityrating entity contains attributes with multiple values; ingredients, and reviews.\n",
    "\n",
    "Your task is to start normalizing this data by creating new entities that conform to 1NF, ensuring each record holds an atomic, individual and unique piece of information."
   ]
  },
  {
   "cell_type": "code",
   "execution_count": null,
   "id": "3d39cd0f-c8a9-41fd-8b30-441f43602bf8",
   "metadata": {},
   "outputs": [],
   "source": [
    "-- Create a new entity\n",
    "CREATE OR REPLACE TABLE ingredients(\n",
    "\t-- Add unique identifier \n",
    "    ingredient_id NUMBER(10,0) PRIMARY KEY,\n",
    "  \t-- Add other attributes \n",
    "    ingredient VARCHAR(255) \n",
    ");"
   ]
  },
  {
   "cell_type": "code",
   "execution_count": null,
   "id": "611c2a39-dd4a-4a86-b6a0-67d9cfaa7ba2",
   "metadata": {},
   "outputs": [],
   "source": [
    "-- Create a new entity\n",
    "CREATE OR REPLACE TABLE reviews (\n",
    "\t-- Add unique identifier \n",
    "    review_id NUMBER(10,0) PRIMARY KEY,\n",
    "  \t-- Add other attributes \n",
    "    review VARCHAR(255)\n",
    ");"
   ]
  },
  {
   "cell_type": "markdown",
   "id": "a8fb72b0-09ac-45db-897f-a630e002c0bf",
   "metadata": {},
   "source": [
    "### Applying 1NF\n",
    "After creating ingredients and reviews entities, it's time to populate them with data from productqualityrating.\n",
    "\n",
    "This step is crucial to ensure that each value within the ingredients and review is treated as a distinct entry, aligning with the principles of 1NF.\n",
    "\n",
    "Start by crafting a query to transform and input the unnormalized data into these entities, adhering to the first normal form principles."
   ]
  },
  {
   "cell_type": "code",
   "execution_count": null,
   "id": "b21a7b8e-2ead-45b5-b342-94377b4e43a9",
   "metadata": {},
   "outputs": [],
   "source": [
    "SELECT\n",
    "\t-- Clean empty values\n",
    "\tTRIM(f.value)\n",
    "FROM productqualityrating,\n",
    "-- Add function to split values separated by comma\n",
    "LATERAL FLATTEN(INPUT => SPLIT(productqualityrating.ingredients, ';')) f;"
   ]
  },
  {
   "cell_type": "code",
   "execution_count": null,
   "id": "682a9840-1aaa-4097-b1ba-095d1273bf17",
   "metadata": {},
   "outputs": [],
   "source": [
    "SELECT\n",
    "\t-- Create a sequential number\n",
    "\tROW_NUMBER() OVER (ORDER BY TRIM(f.value)),\n",
    "\tTRIM(f.value)\n",
    "FROM productqualityrating,\n",
    "LATERAL FLATTEN(INPUT => SPLIT(productqualityrating.ingredients, ';')) f\n",
    "-- Group the data\n",
    "GROUP BY TRIM(f.value);"
   ]
  },
  {
   "cell_type": "code",
   "execution_count": null,
   "id": "67023463-3e41-4927-b7b3-5bfcc37b3efd",
   "metadata": {},
   "outputs": [],
   "source": [
    "-- Add command to insert data\n",
    "INSERT INTO ingredients (ingredient_id, ingredient)\n",
    "SELECTL\n",
    "\tROW_NUMBER() OVER (ORDER BY TRIM(f.value)),\n",
    "\tTRIM(f.value)\n",
    "FROM productqualityrating,\n",
    "LATERAL FLATTEN(INPUT => SPLIT(productqualityrating.ingredients, ';')) f\n",
    "GROUP BY TRIM(f.value);"
   ]
  },
  {
   "cell_type": "code",
   "execution_count": null,
   "id": "727a6938-e27e-488b-a610-070429769d26",
   "metadata": {},
   "outputs": [],
   "source": [
    "-- Modify script for review\n",
    "INSERT INTO reviews (review_id, review)\n",
    "SELECT\n",
    "\tROW_NUMBER() OVER (ORDER BY TRIM(f.value)),\n",
    "\tTRIM(f.value)\n",
    "FROM productqualityrating,\n",
    "LATERAL FLATTEN(INPUT => SPLIT(productqualityrating.review, ';')) f\n",
    "GROUP BY TRIM(f.value);"
   ]
  },
  {
   "cell_type": "markdown",
   "id": "8b7a9b4f-149a-4a86-b33f-6fa5f257416b",
   "metadata": {},
   "source": [
    "## 2NF and 3NF"
   ]
  },
  {
   "cell_type": "markdown",
   "id": "6fbcf22e-6d72-4925-bad0-27fe0a6bb5cd",
   "metadata": {},
   "source": [
    "### Applying 2NF\n",
    "Your productqualityrating entity is a rich dataset that captures the essence of chocolate bars reviewed over various years. You noticed that the company_location attribute depends on the manufacturer attribute. The company_location values repeat every time they are together with the manufacturer attribute, which violates the second normal form's rule against partial dependencies.\n",
    "\n",
    "By separating this data into a dedicated manufacturers entity, you can remove redundancies and prepare our data model for more efficient operations. This step is crucial in maintaining data integrity and allows scalable business intelligence solutions.\n",
    "\n",
    "Your task is to normalize this data to align with 2NF principles, ensuring that each non-key attribute entirely depends on the primary key."
   ]
  },
  {
   "cell_type": "code",
   "execution_count": null,
   "id": "46380606-1bab-4ca9-852f-a48a3aa6a191",
   "metadata": {},
   "outputs": [],
   "source": [
    "-- Add new entity\n",
    "CREATE OR REPLACE TABLE manufacturers (\n",
    "  \t-- Assign unique identifier\n",
    "  \tmanufacturer_id NUMBER(10,0) PRIMARY KEY,\n",
    "  \t--Add other attributes\n",
    "  \tmanufacturer VARCHAR(255),\n",
    "  \tcompany_location VARCHAR(255)\n",
    ");"
   ]
  },
  {
   "cell_type": "code",
   "execution_count": null,
   "id": "436dfc31-5bb9-45ed-ac8b-7fb2399008a4",
   "metadata": {},
   "outputs": [],
   "source": [
    "-- Add values to manufacturers\n",
    "INSERT INTO manufacturers (manufacturer_id, manufacturer, company_location)\n",
    "SELECT \n",
    "\t-- Generate a sequential number\n",
    "\tROW_NUMBER() OVER (ORDER BY manufacturer, company_location),\n",
    "\tmanufacturer, \n",
    "\tcompany_location\n",
    "FROM productqualityrating\n",
    "-- Aggregate data by the other attributes\n",
    "GROUP BY manufacturer, \n",
    "company_location;"
   ]
  },
  {
   "cell_type": "markdown",
   "id": "11231a71-cb15-4e6f-8817-b4d6cd9088a7",
   "metadata": {},
   "source": [
    "### Applying 3NF\n",
    "With our manufacturers table successfully reflecting 2NF standards, we now set our sights on the third normal form. We've recognized that a manufacturer's location is an independent piece of data.\n",
    "\n",
    "Your task is to eliminate this transitive dependency, refining our data model to support our business's dynamic data needs. This adjustment will significantly improve our data model's flexibility and minimize the impact of data modifications."
   ]
  },
  {
   "cell_type": "code",
   "execution_count": null,
   "id": "f78d8084-bea1-4fd7-b86f-889cc7a041bd",
   "metadata": {},
   "outputs": [],
   "source": [
    "-- Create entity\n",
    "CREATE OR REPLACE TABLE locations(\n",
    "\t-- Add unique identifier\n",
    "  \tlocation_id NUMBER(10,0) PRIMARY KEY,\n",
    "  \t-- Add main attribute\n",
    "  \tlocation VARCHAR(255)\n",
    ");"
   ]
  },
  {
   "cell_type": "code",
   "execution_count": null,
   "id": "8a86f16b-722e-4a24-820f-1158a152c626",
   "metadata": {},
   "outputs": [],
   "source": [
    "-- Populate entity from other entity's data\n",
    "INSERT INTO locations (location_id, location)\n",
    "SELECT \n",
    "\t-- Generate unique sequential number\n",
    "\tROW_NUMBER() OVER(ORDER BY company_location),\n",
    "    -- Select the main attribute\n",
    "\tcompany_location\n",
    "FROM manufacturers\n",
    "-- Aggregate data by main attribute\n",
    "GROUP BY company_location;"
   ]
  },
  {
   "cell_type": "code",
   "execution_count": null,
   "id": "87a82a8b-3f96-4241-87a9-d774ca5f4be9",
   "metadata": {},
   "outputs": [],
   "source": [
    "-- Modify entity\n",
    "ALTER TABLE manufacturers\n",
    "-- Remove attribute\n",
    "DROP COLUMN IF EXISTS company_location;"
   ]
  },
  {
   "cell_type": "code",
   "execution_count": null,
   "id": "b6e4e5fa-6310-4d99-a839-d2046a4ca382",
   "metadata": {},
   "outputs": [],
   "source": []
  },
  {
   "cell_type": "code",
   "execution_count": null,
   "id": "81c0ddbb-f47a-486e-8e3d-9b9d30fc60d4",
   "metadata": {},
   "outputs": [],
   "source": []
  }
 ],
 "metadata": {
  "kernelspec": {
   "display_name": "Python 3 (ipykernel)",
   "language": "python",
   "name": "python3"
  },
  "language_info": {
   "codemirror_mode": {
    "name": "ipython",
    "version": 3
   },
   "file_extension": ".py",
   "mimetype": "text/x-python",
   "name": "python",
   "nbconvert_exporter": "python",
   "pygments_lexer": "ipython3",
   "version": "3.9.13"
  }
 },
 "nbformat": 4,
 "nbformat_minor": 5
}
