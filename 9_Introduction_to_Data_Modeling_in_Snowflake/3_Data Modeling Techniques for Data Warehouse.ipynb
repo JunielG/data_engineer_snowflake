{
 "cells": [
  {
   "cell_type": "markdown",
   "id": "f696cb18-53fe-4450-8226-90466e1e9ac7",
   "metadata": {},
   "source": [
    "## Entity–relationship model"
   ]
  },
  {
   "cell_type": "code",
   "execution_count": null,
   "id": "7520d88c-0ed8-48fd-b952-897c282c9cb7",
   "metadata": {},
   "outputs": [],
   "source": [
    "CREATE OR REPLACE TABLE enrollments (\n",
    "    -- Create a new entity with a unique identifier \n",
    "    enrollment_id NUMBER(10,0) PRIMARY KEY\n",
    "    -- Add the entity's attributes\n",
    "    year NUMBER(4,0),    \n",
    "    semester VARCHAR(255) \n",
    "    -- Add relationships to other entities\n",
    "    FOREIGN KEY (student_id) REFERENCES students(student_id),\n",
    "    FOREIGN KEY (class_id) REFERENCES classes(class_id)\n",
    ");"
   ]
  },
  {
   "cell_type": "code",
   "execution_count": null,
   "id": "ff586da8-75e2-48b5-a252-d4697b890e0e",
   "metadata": {},
   "outputs": [],
   "source": [
    "# Retrieving data from the ER Model \n",
    "SELECT students.name,    \n",
    "classes.class_name \n",
    "FROM students \n",
    "JOIN enrollments ON students.student_id = enrollments.student_id \n",
    "JOIN classes ON enrollments.class_id = classes.class_id \n",
    "JOIN schools ON classes.department_id = schools.school_id \n",
    "WHERE enrollments.year ='2023' \n",
    "AND schools.school_name ='Science';"
   ]
  },
  {
   "cell_type": "markdown",
   "id": "097360f6-bcf4-4b79-b09b-9eb7a5e9f321",
   "metadata": {},
   "source": [
    "### Creating entities for ER model\n",
    "The HR department has requested a new system to track the training programs employees have completed.\n",
    "\n",
    "Your task involves applying the ER model by setting up a new entity to record the details of each session, including a reference to the training program from the trainings entity."
   ]
  },
  {
   "cell_type": "code",
   "execution_count": null,
   "id": "19332146-056b-4d8a-8a3e-0d4d691c4aa8",
   "metadata": {},
   "outputs": [],
   "source": [
    "-- Create new entity\n",
    "CREATE OR REPLACE TABLE employee_training_details (\n",
    "  \t-- Assign a unique identifier for the entity\n",
    "\temployee_training_id NUMBER(10,0) PRIMARY KEY,\n",
    "  \t-- Add new attribute\n",
    "    year NUMBER(4,0),\n",
    "  \t-- Add new attributes to reference foreign entities\n",
    "  \temployee_id NUMBER(38,0),\n",
    "    training_id NUMBER(38,0),\n",
    "    FOREIGN KEY (employee_id) REFERENCES employees(employee_id),\n",
    "    FOREIGN KEY (training_id) REFERENCES trainings(training_id)\n",
    ");"
   ]
  },
  {
   "cell_type": "markdown",
   "id": "17ee4b7a-7105-4ec6-ae66-b12a7a8cf1ae",
   "metadata": {},
   "source": [
    "### Retrieving data from ER model\n",
    "The HR department has launched an initiative to closely monitor employees training progress within the 'Operations' department. They aim to identify employees who have exceeded the average training score threshold, indicating successful completion of their training programs.\n",
    "\n",
    "Your task is to use the ER model to build a report by joining relevant entities and applying necessary filters to get the results fast and efficiently."
   ]
  },
  {
   "cell_type": "code",
   "execution_count": null,
   "id": "255a50ad-2018-44e9-8486-c4debe8b23f1",
   "metadata": {},
   "outputs": [],
   "source": [
    "SELECT \n",
    "\t-- Add attributes to select\n",
    "\temployees.employee_id, \n",
    "    trainings.avg_training_score\n",
    "FROM employees\n",
    "\t-- Merge entities on common keys\n",
    "\tJOIN trainings\n",
    "\tON employees.employee_id = trainings.employee_id\n",
    "LIMIT 50;"
   ]
  },
  {
   "cell_type": "code",
   "execution_count": null,
   "id": "5ec97845-39d1-4b09-b3d6-38b80a8722d3",
   "metadata": {},
   "outputs": [],
   "source": [
    "SELECT \n",
    "\temployees.employee_id, \n",
    "    trainings.avg_training_score\n",
    "FROM employees\n",
    "\tJOIN trainings \n",
    "\tON employees.employee_id = trainings.employee_id\n",
    "-- Add filter\n",
    "WHERE trainings.avg_training_score > 65\n",
    "LIMIT 50;"
   ]
  },
  {
   "cell_type": "code",
   "execution_count": null,
   "id": "4d6f4499-21b7-48a1-abfd-41742f225a5f",
   "metadata": {},
   "outputs": [],
   "source": [
    "SELECT \n",
    "\temployees.employee_id, \n",
    "    trainings.avg_training_score\n",
    "FROM employees\n",
    "\tJOIN trainings \n",
    "\tON employees.employee_id = trainings.employee_id\n",
    "    -- Merge new entity\n",
    "    JOIN departments \n",
    "    ON employees.department_id = departments.department_id\n",
    "WHERE trainings.avg_training_score > 65\n",
    "\t-- Add extra filter\n",
    "\tAND departments.department_name = 'Operations'\n",
    "LIMIT 50;"
   ]
  },
  {
   "cell_type": "markdown",
   "id": "b7d218fa-482a-407d-b220-645d7e901df3",
   "metadata": {},
   "source": [
    "## Dimensional Modeling"
   ]
  },
  {
   "cell_type": "code",
   "execution_count": null,
   "id": "1c88fba3-14de-4da4-b1f4-148acd0b9e2b",
   "metadata": {},
   "outputs": [],
   "source": [
    "# Defining dimensions \n",
    "-- Rename entities to dim_EntityName for clarity, following up dimensions in the model: \n",
    "ALTER TABLE students RENAME TO dim_students;\n",
    "ALTER TABLE classes RENAME TO dim_classes;\n",
    "ALTER TABLE schools RENAME TO dim_schools;"
   ]
  },
  {
   "cell_type": "code",
   "execution_count": null,
   "id": "833ffab2-c958-4353-8ba0-ecb160892e47",
   "metadata": {},
   "outputs": [],
   "source": [
    "# Defining date dimension \n",
    "-- Creating the dim_date table to store key fixed dates related to student enrollments inschool:\n",
    "CREATE OR REPLACE TABLE dim_date (  \n",
    "    date_id NUMBER(10,0) PRIMARY KEY,\n",
    "year NUMBER(4,0), \n",
    "semester VARCHAR(255)\n",
    ");"
   ]
  },
  {
   "cell_type": "code",
   "execution_count": null,
   "id": "953d14b2-8391-410e-b89c-0b56e112a8cc",
   "metadata": {},
   "outputs": [],
   "source": [
    "# Defining enrollments fact \n",
    "-- Create a fact entity containing references to all the dimensions:\n",
    "CREATE OR REPLACE TABLE fact_enrollments ( \n",
    "    enrollment_id NUMBER(10,0) PRIMARY KEY,  \n",
    "student_id NUMBER(10,0),    \n",
    "class_id NUMBER(10,0),   \n",
    "date_id NUMBER(10,0),\n",
    "FOREIGN KEY (student_id) REFERENCES dim_students(student_id),\n",
    "FOREIGN KEY (class_id) REFERENCES dim_classes(class_id),\n",
    "FOREIGN KEY (date_id) REFERENCES dim_date(date_id)\n",
    ");"
   ]
  },
  {
   "cell_type": "code",
   "execution_count": null,
   "id": "579784f4-7875-4712-a247-d12504a302e0",
   "metadata": {},
   "outputs": [],
   "source": [
    "# Retrieving data from the dimensions \n",
    "SELECT name,   \n",
    "class_name \n",
    "FROM fact_enrollments \n",
    "JOIN dim_students -- Joining to get student names \n",
    "ON fact_enrollments.student_id = dim_students.student_id \n",
    "JOIN dim_classes -- Joining to get class names \n",
    "ON fact_enrollments.class_id = dim_classes.class_id\n",
    "JOIN dim_schools -- Joining to filter for the 'Science' school \n",
    "ON dim_classes.school_id = dim_schools.school_id\n",
    "JOIN dim_date -- Joining to restrict data to the year 2023\n",
    "ON fact_enrollments.date_id = dim_date.date_id\n",
    "WHERE dim_schools.school_name ='Science' \n",
    "AND dim_date.year = 2023;"
   ]
  },
  {
   "cell_type": "markdown",
   "id": "aed21454-c573-4830-9997-0045a81e9743",
   "metadata": {},
   "source": [
    "### Preparing dimensions\n",
    "The HR department has data from employees and what training they have been doing. They have asked you to provide a model to quickly analyze large data sets, efficiently integrate reports and their business intelligence tools, and help them with data-driven decision-making.\n",
    "\n",
    "Your task is to prepare the dimensions to connect to the fact table in the center of the star schema dimensions model."
   ]
  },
  {
   "cell_type": "code",
   "execution_count": null,
   "id": "9b33c1f1-f9d2-450b-aa6a-fd3da07e4d8a",
   "metadata": {},
   "outputs": [],
   "source": [
    "-- Modify entity\n",
    "ALTER TABLE IF EXISTS employees\n",
    "RENAME TO dim_employees;\n",
    "\n",
    "ALTER TABLE IF EXISTS departments \n",
    "RENAME TO dim_departments;\n",
    "\n",
    "ALTER TABLE IF EXISTS trainings\n",
    "RENAME TO dim_trainings;"
   ]
  },
  {
   "cell_type": "markdown",
   "id": "6b21d6d8-b5d0-4df3-96b9-b77bdf8c8db8",
   "metadata": {},
   "source": [
    "### Creating dimensions\n",
    "The company requires employees to take training yearly to stay up to date. As part of creating a report for HR employees and their training, it is necessary also to register the last date when the employee took the training. Your task is to introduce a new dimension to the model to document this event. Once you do this, it will finalize the fact table, linking together all the dimensions:"
   ]
  },
  {
   "cell_type": "code",
   "execution_count": null,
   "id": "83d332c8-e550-4cf7-b9e7-65df87f6df4c",
   "metadata": {},
   "outputs": [],
   "source": [
    "-- Create new entity\n",
    "CREATE OR REPLACE TABLE dim_date (\n",
    "  \t-- Add unique identifier\n",
    "    date_id NUMBER(10,0) PRIMARY KEY,\n",
    "  \t-- Add new attributes to register date\n",
    "    year NUMBER(4,0),\n",
    "    month NUMBER(2,0)\n",
    ");"
   ]
  },
  {
   "cell_type": "markdown",
   "id": "b5d711c6-73d7-41bc-8f86-68b973299d56",
   "metadata": {},
   "source": [
    "### Retrieving data from dimensional model\n",
    "With the new dimensional model in place, the HR department wants to analyze the training sessions attended by all the employees in 2023. They are trying to gather the employees' average score, which is lower than the minimum 100 points, to call them for extra training.\n",
    "\n",
    "Your task is to extract this information from the data warehouse."
   ]
  },
  {
   "cell_type": "code",
   "execution_count": null,
   "id": "712b3e75-c5a5-4326-b4ef-0af7203d5a81",
   "metadata": {},
   "outputs": [],
   "source": [
    "SELECT \n",
    "\t-- Retrieve all attributes from the dimension\n",
    "\tdim_employees.*\n",
    "FROM fact_employee_trainings \n",
    "\t-- Merge fact table with dimension\n",
    "\tJOIN dim_employees\n",
    "    ON fact_employee_trainings.employee_id = dim_employees.employee_id;"
   ]
  },
  {
   "cell_type": "code",
   "execution_count": null,
   "id": "79a9209a-0b74-4f81-94b9-01d85bc653fa",
   "metadata": {},
   "outputs": [],
   "source": [
    "SELECT \n",
    "\tdim_employees.*,\n",
    "    -- Retrieve average training scores\n",
    "    dim_trainings.avg_training_score\n",
    "FROM fact_employee_trainings \n",
    "\tJOIN dim_employees\n",
    "    ON fact_employee_trainings.employee_id = dim_employees.employee_id\n",
    "    -- Merge fact table with dimension\n",
    "    JOIN dim_trainings\n",
    "    ON fact_employee_trainings.training_id = dim_trainings.training_id\n",
    "-- Add filter\n",
    "WHERE dim_trainings.avg_training_score < 100;"
   ]
  },
  {
   "cell_type": "code",
   "execution_count": null,
   "id": "d23cdc0d-09d3-4ad9-aca7-96e57d5dcbd8",
   "metadata": {},
   "outputs": [],
   "source": [
    "SELECT \n",
    "\tdim_employees.*,\n",
    "    dim_trainings.avg_training_score,\n",
    "    -- Add new attribute\n",
    "    dim_departments.department_name\n",
    "FROM fact_employee_trainings \n",
    "\tJOIN dim_employees\n",
    "    ON fact_employee_trainings.employee_id = dim_employees.employee_id\n",
    "    JOIN dim_trainings \n",
    "    ON fact_employee_trainings.training_id = dim_trainings.training_id\n",
    "    -- Add dimension needed\n",
    "\tJOIN dim_departments \n",
    "    ON fact_employee_trainings.department_id = dim_departments.department_id\n",
    "WHERE dim_trainings.avg_training_score < 100;"
   ]
  },
  {
   "cell_type": "code",
   "execution_count": null,
   "id": "7241e06e-d3d2-4d3e-bcf8-c1b0c2683723",
   "metadata": {},
   "outputs": [],
   "source": [
    "SELECT \n",
    "\tdim_employees.*,\n",
    "    dim_trainings.avg_training_score,\n",
    "    dim_departments.department_name\n",
    "FROM fact_employee_trainings \n",
    "\tJOIN dim_employees\n",
    "    ON fact_employee_trainings.employee_id = dim_employees.employee_id\n",
    "    JOIN dim_trainings \n",
    "    ON fact_employee_trainings.training_id = dim_trainings.training_id\n",
    "    JOIN dim_departments \n",
    "    ON fact_employee_trainings.department_id = dim_departments.department_id\n",
    "    -- Add dimension needed\n",
    "    JOIN dim_date  \n",
    "    ON fact_employee_trainings.date_id = dim_date.date_id\n",
    "WHERE dim_trainings.avg_training_score < 100   \n",
    "    -- Add extra filter\n",
    "    AND dim_date.year = 2023;"
   ]
  },
  {
   "cell_type": "markdown",
   "id": "e975c617-8239-486a-b94a-1425f2edaa87",
   "metadata": {},
   "source": [
    "## Data Vault"
   ]
  },
  {
   "cell_type": "code",
   "execution_count": null,
   "id": "562e1a50-860a-4391-9546-e48180184733",
   "metadata": {},
   "outputs": [],
   "source": [
    "# Building hubs (1) \n",
    "-- AUTOINCREMENT: Attribute property to automatically generate unique, sequentially increasing numeric values for each new row.\n",
    "CREATE OR REPLACE TABLE hub_students (  \n",
    "    student_key NUMBER(10,0) AUTOINCREMENT PRIMARY KEY\n",
    ");\n",
    "\n",
    "# Building hubs (2) \n",
    "-- Create a new hub with a unique numerical key generated automatically and the hub's concept id:\n",
    "CREATE OR REPLACE TABLE hub_students (   \n",
    "    student_key NUMBER(10,0) AUTOINCREMENT PRIMARY KEY, \n",
    "    student_id NUMBER(10,0)\n",
    ");\n",
    "\n",
    "# Building hubs (3) \n",
    "-- Add historical tracking attributes:\n",
    "CREATE OR REPLACE TABLE hub_students (  \n",
    "    student_key NUMBER(10,0) AUTOINCREMENT PRIMARY KEY, \n",
    "    student_id NUMBER(10,0), \n",
    "    load_date TIMESTAMP,  \n",
    "    record_source VARCHAR(255)\n",
    ");"
   ]
  },
  {
   "cell_type": "code",
   "execution_count": null,
   "id": "eb518eb4-29f6-4ec4-8f60-f1b5af8279f0",
   "metadata": {},
   "outputs": [],
   "source": [
    "# Building links (1) \n",
    "-- Create a link entity with a unique numerical key generated automatically: \n",
    "CREATE OR REPLACE TABLE link_enrollments ( \n",
    "    link_key NUMBER(10,0) AUTOINCREMENT PRIMARY KEY\n",
    ");\n",
    "\n",
    "# Building links (2) \n",
    "-- Add relationships to other entities: \n",
    "CREATE OR REPLACE TABLE link_enrollments (  \n",
    "    link_key NUMBER(10,0) AUTOINCREMENT PRIMARY KEY,  \n",
    "    student_key NUMBER(10,0),  \n",
    "    class_key NUMBER(10,0),\n",
    "    FOREIGN KEY (student_key) REFERENCES hub_students(student_key),\n",
    "    FOREIGN KEY (class_key) REFERENCES hub_classes(class_key)\n",
    "    );"
   ]
  },
  {
   "cell_type": "markdown",
   "id": "86bd0fdd-d0a8-4f9b-a5d8-9072344b02c9",
   "metadata": {},
   "source": [
    "### Creating hubs\n",
    "The HR department has commented that they need a more detailed history of all the changes with their records of employees, departments, and training.\n",
    "\n",
    "You will need to restructure its data into a series of hubs.\n",
    "\n",
    "Hubs will create a scalable and agile data warehouse that can accommodate changes over time without disrupting existing structures."
   ]
  },
  {
   "cell_type": "code",
   "execution_count": null,
   "id": "4f204e78-407a-48c2-88fa-a28e5aa94404",
   "metadata": {},
   "outputs": [],
   "source": [
    "-- Create a new hub entity\n",
    "CREATE OR REPLACE TABLE hub_employee (\n",
    "\t-- Assign automated values to the hub key\n",
    "\thub_employee_key NUMBER(10,0) AUTOINCREMENT PRIMARY KEY,\n",
    "\temployee_id NUMBER(38,0),\n",
    "\t-- Add attributes for historical tracking\n",
    "\tload_date TIMESTAMP,\n",
    "\trecord_source VARCHAR(255)\n",
    ");"
   ]
  },
  {
   "cell_type": "code",
   "execution_count": null,
   "id": "11863875-5971-4c3c-b953-2a614c7c8a4f",
   "metadata": {},
   "outputs": [],
   "source": [
    "CREATE OR REPLACE TABLE hub_department (\n",
    "\t-- Assign automated values to the hub key\n",
    "\thub_department_id NUMBER(10,0) AUTOINCREMENT PRIMARY KEY,\n",
    "  \t-- Add hubs key reference\n",
    "\tdepartment_id NUMBER(38,0),\n",
    "\t-- Add attributes for historical tracking\n",
    "\tload_date TIMESTAMP,\n",
    "\trecord_source VARCHAR(255)\n",
    ");"
   ]
  },
  {
   "cell_type": "code",
   "execution_count": null,
   "id": "19126693-6205-496f-a268-6732a08c76c8",
   "metadata": {},
   "outputs": [],
   "source": [
    "CREATE OR REPLACE TABLE hub_training (\n",
    "\t-- Add hub key\n",
    "\thub_training_key NUMBER(10,0) AUTOINCREMENT PRIMARY KEY,\n",
    "    -- Add the key attribute of trainings\n",
    "\ttraining_id NUMBER(38,0),\n",
    "\t-- Add history tracking attributes\n",
    "\tload_date TIMESTAMP,\n",
    "\trecord_source VARCHAR(255)\n",
    ");"
   ]
  },
  {
   "cell_type": "markdown",
   "id": "dcdc8ba9-8496-434a-adb6-fa556881ca07",
   "metadata": {},
   "source": [
    "### Creating satellites\n",
    "With the hubs established, the next step is to create satellites that store descriptive information related to each hub. Satellites provide context and depth to the keys stored in hubs, and they capture the descriptive attributes, changes over time, and the history of business concepts.\n",
    "\n",
    "Your task will be to create these satellites."
   ]
  },
  {
   "cell_type": "code",
   "execution_count": null,
   "id": "18c58a9d-cc94-452d-8f44-08201c8120c9",
   "metadata": {},
   "outputs": [],
   "source": [
    "-- Create a new satellite\n",
    "CREATE OR REPLACE TABLE sat_employee (\n",
    "\tsat_employee_key NUMBER(10,0) AUTOINCREMENT PRIMARY KEY,\n",
    "\thub_employee_key NUMBER(10,0) UNIQUE,\n",
    "   \temployee_name VARCHAR(255),\n",
    "    gender CHAR(1),\n",
    "    age NUMBER(3,0),\n",
    "\t-- Add history tracking attributes\n",
    "\tload_date TIMESTAMP,\n",
    "    record_source VARCHAR(255),\n",
    "\t-- Add a reference to foreign hub\n",
    "    FOREIGN KEY (hub_employee_key) REFERENCES hub_employee(hub_employee_key)\n",
    ");"
   ]
  },
  {
   "cell_type": "code",
   "execution_count": null,
   "id": "2a391cd7-b159-455e-99cb-011e1961356d",
   "metadata": {},
   "outputs": [],
   "source": [
    "CREATE OR REPLACE TABLE sat_department (\n",
    "\t-- Add the satellites unique identifier\n",
    "\tsat_department_key NUMBER(10,0) AUTOINCREMENT PRIMARY KEY,\n",
    "\t-- Add the hubs key attribute\n",
    "\thub_department_key NUMBER(10,0) UNIQUE,\n",
    "\tdepartment_name VARCHAR(255),\n",
    "\tregion VARCHAR(255),\n",
    "    -- Add history tracking attributes\n",
    "    load_date TIMESTAMP,\n",
    "    record_source VARCHAR(255),\n",
    "\t-- Add a reference to foreign hub\n",
    "\tFOREIGN KEY (hub_department_key) REFERENCES hub_department(hub_department_key)\n",
    ");"
   ]
  },
  {
   "cell_type": "code",
   "execution_count": null,
   "id": "136f2354-25bc-4afd-85d1-e53a9e088d01",
   "metadata": {},
   "outputs": [],
   "source": [
    "CREATE OR REPLACE TABLE sat_training (\n",
    "\tsat_training_key NUMBER(10,0) AUTOINCREMENT PRIMARY KEY,\n",
    "\t-- Add the hub's key reference\n",
    "\thub_training_key NUMBER(10,0) UNIQUE,\n",
    "\ttraining_type VARCHAR(255),\n",
    "    duration NUMBER(4,0),\n",
    "    trainer_name VARCHAR(255),\n",
    "    load_date TIMESTAMP,\n",
    "    record_source VARCHAR(255),\n",
    "\t-- Add a reference to foreign hub\n",
    "\tFOREIGN KEY (hub_training_key) REFERENCES hub_training(hub_training_key) \n",
    ");"
   ]
  },
  {
   "cell_type": "markdown",
   "id": "f526efe2-d94f-4b44-94d5-0ca3a364345f",
   "metadata": {},
   "source": [
    "### Creating links\n",
    "The final piece in the data vault model for HR is the creation of Links. Links represent relationships between hubs or capture transactions and interactions involving multiple hubs.\n",
    "\n",
    "Your task is creating a link entity representing the relationship or interaction between the employee, training, and department hubs."
   ]
  },
  {
   "cell_type": "code",
   "execution_count": null,
   "id": "bec6f886-6dc0-44cf-a63d-1f0b98c530f5",
   "metadata": {},
   "outputs": [],
   "source": [
    "-- Create a new entity\n",
    "CREATE OR REPLACE TABLE link_all (\n",
    "\t-- Add a unique identifier to the link\n",
    "\tlink_key NUMBER(10,0) AUTOINCREMENT PRIMARY KEY,\n",
    "    -- Add history tracking attributes\n",
    "\tload_date TIMESTAMP,\n",
    "    record_source VARCHAR(255)\n",
    ");"
   ]
  },
  {
   "cell_type": "code",
   "execution_count": null,
   "id": "430566b4-311a-490a-9ca5-130596a32b3d",
   "metadata": {},
   "outputs": [],
   "source": [
    "CREATE OR REPLACE TABLE link_all (\n",
    "\tlink_key NUMBER(10,0) AUTOINCREMENT PRIMARY KEY,\n",
    "    -- Add the hub's key attribute\n",
    "\thub_employee_key NUMBER(10,0) UNIQUE,\n",
    "  \tload_date TIMESTAMP,\n",
    "    record_source VARCHAR(255),\n",
    "  \t-- Add a relationship with the foreign hub\n",
    "\tFOREIGN KEY (hub_employee_key) REFERENCES hub_employee(hub_employee_key)\n",
    ");"
   ]
  },
  {
   "cell_type": "code",
   "execution_count": null,
   "id": "f536e809-8eda-419d-b7b7-7a27bbf95f2e",
   "metadata": {},
   "outputs": [],
   "source": [
    "CREATE OR REPLACE TABLE link_all (\n",
    "\tlink_key NUMBER(10,0) AUTOINCREMENT PRIMARY KEY,\n",
    "\thub_employee_key NUMBER(10,0) UNIQUE,\n",
    "  \t-- Add the hub's key attributes\n",
    "  \thub_training_key NUMBER(10,0),\n",
    "    hub_department_key NUMBER(10,0),\n",
    "  \tload_date TIMESTAMP,\n",
    "    record_source VARCHAR(255),\n",
    "\tFOREIGN KEY (hub_employee_key) REFERENCES hub_employee(hub_employee_key),\n",
    "  \t-- Add a relationship with the foreign hubs\n",
    "  \tFOREIGN KEY (hub_training_key) REFERENCES hub_training(hub_training_key),\n",
    "  \tFOREIGN KEY (hub_department_key) REFERENCES hub_department( hub_department_key)\n",
    ");"
   ]
  },
  {
   "cell_type": "markdown",
   "id": "22e1b9af-600a-492a-9802-9dc6fa6c6094",
   "metadata": {},
   "source": [
    "## Choosing the Right Approach"
   ]
  },
  {
   "cell_type": "code",
   "execution_count": null,
   "id": "12d35517-a7a3-4c21-911b-e26e405d077a",
   "metadata": {},
   "outputs": [],
   "source": [
    "SELECT   \n",
    "hs.student_key,  \n",
    "ss.student_name,\n",
    "COUNT(le.class_key) AS NumberOfEnrollments \n",
    "MAX(sc.load_date) AS MostRecentEnrollmentDate \n",
    "FROM hub_students hs\n",
    "JOIN sat_student ss ON hs.student_key = ss.student_key \n",
    "LEFT JOIN link_enrollment le ON hs.student_key = le.student_key \n",
    "LEFT JOIN sat_class sc ON le.class_key = sc.class_key \n",
    "GROUP BY hs.student_key, ss.student_name;"
   ]
  },
  {
   "cell_type": "markdown",
   "id": "8e401132-190c-49f4-9e38-009a7d625c76",
   "metadata": {},
   "source": [
    "### Mastering data retrieval\n",
    "After exploring various data modeling techniques, it's clear that the data vault model is ideally suited for this specific HR team's needs. The team requires a robust system that maintains historical records and tracks every change, a strength of the data vault model.\n",
    "\n",
    "This exercise focuses on querying the data vault structure to analyze employees' training accomplishments and departmental affiliations.\n",
    "\n",
    "Your task will be to gather the highest score for all employees that have won one award."
   ]
  },
  {
   "cell_type": "code",
   "execution_count": null,
   "id": "39c41f5c-dade-4451-bbb7-110dfb084ffa",
   "metadata": {},
   "outputs": [],
   "source": [
    "SELECT\n",
    "\t-- Add the attribute from employees\n",
    "    hub_e.hub_employee_key,\n",
    "    -- Add the attribute from the department\n",
    "    sat_d.department_name\n",
    "FROM hub_employee AS hub_e\n",
    "\t-- Merge hub with link\n",
    "\tJOIN link_all AS li\n",
    "    ON hub_e.hub_employee_key = li.hub_employee_key\n",
    "\t-- Merge link with satellite\n",
    "    JOIN sat_department AS sat_d\n",
    "    ON li.hub_department_key = sat_d.hub_department_key;"
   ]
  },
  {
   "cell_type": "code",
   "execution_count": null,
   "id": "678b4ef7-e130-4616-b03d-0fd1f0eac96a",
   "metadata": {},
   "outputs": [],
   "source": [
    "SELECT\n",
    "    hub_e.hub_employee_key,\n",
    "    sat_d.department_name,\n",
    "    -- Add the new attribute\n",
    "\tsat_t.avg_training_score\n",
    "FROM hub_employee AS hub_e\n",
    "\tJOIN link_all AS li \n",
    "    ON hub_e.hub_employee_key = li.hub_employee_key\n",
    "    JOIN sat_department AS sat_d \n",
    "    ON li.hub_department_key = sat_d.hub_department_key\n",
    "    -- Merge the satellite, even if there is no data for that employee\n",
    "    LEFT JOIN sat_training AS sat_t\n",
    "    ON li.hub_training_key = sat_t.hub_training_key;"
   ]
  },
  {
   "cell_type": "code",
   "execution_count": null,
   "id": "3038f043-7195-4be5-b273-9b8ed06d6ac8",
   "metadata": {},
   "outputs": [],
   "source": [
    "SELECT\n",
    "    hub_e.hub_employee_key,\n",
    "    sat_d.department_name,\n",
    "    sat_t.avg_training_score\n",
    "FROM hub_employee AS hub_e\n",
    "\tJOIN link_all AS li \n",
    "    ON hub_e.hub_employee_key = li.hub_employee_key\n",
    "    JOIN sat_department AS sat_d \n",
    "    ON li.hub_department_key = sat_d.hub_department_key\n",
    "    LEFT JOIN sat_training AS sat_t \n",
    "    ON li.hub_training_key = sat_t.hub_training_key\n",
    "-- Add filter for training\n",
    "WHERE sat_t.awards_won = 1;"
   ]
  },
  {
   "cell_type": "code",
   "execution_count": null,
   "id": "f0367f10-30c1-4f23-a4c1-bfff46523b97",
   "metadata": {},
   "outputs": [],
   "source": [
    "SELECT\n",
    "    hub_e.hub_employee_key,\n",
    "    sat_d.department_name,\n",
    "    -- Aggregate the attribute\n",
    "    MAX(sat_t.avg_training_score) AS average_training\n",
    "FROM hub_employee hub_e\n",
    "\tJOIN link_all AS li \n",
    "    ON hub_e.hub_employee_key = li.hub_employee_key\n",
    "    JOIN sat_department AS sat_d \n",
    "    ON li.hub_department_key = sat_d.hub_department_key\n",
    "    LEFT JOIN sat_training AS sat_t \n",
    "    ON li.hub_training_key = sat_t.hub_training_key\n",
    "WHERE sat_t.awards_won = 1\n",
    "-- Group the results \n",
    "GROUP BY hub_e.hub_employee_key, sat_d.department_name;"
   ]
  },
  {
   "cell_type": "code",
   "execution_count": null,
   "id": "6ad2b2ef-d4ce-4942-923a-f25712ebac51",
   "metadata": {},
   "outputs": [],
   "source": []
  }
 ],
 "metadata": {
  "kernelspec": {
   "display_name": "Python 3 (ipykernel)",
   "language": "python",
   "name": "python3"
  },
  "language_info": {
   "codemirror_mode": {
    "name": "ipython",
    "version": 3
   },
   "file_extension": ".py",
   "mimetype": "text/x-python",
   "name": "python",
   "nbconvert_exporter": "python",
   "pygments_lexer": "ipython3",
   "version": "3.9.13"
  }
 },
 "nbformat": 4,
 "nbformat_minor": 5
}
