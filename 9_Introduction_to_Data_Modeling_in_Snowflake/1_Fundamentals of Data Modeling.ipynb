{
 "cells": [
  {
   "cell_type": "markdown",
   "id": "85356c95-0a5a-4f3d-afa7-f782f9d08ea6",
   "metadata": {},
   "source": [
    "## Introduction to Data Modeling"
   ]
  },
  {
   "cell_type": "code",
   "execution_count": null,
   "id": "b89ca7e5-93b0-40de-9e93-db7d73c5207f",
   "metadata": {},
   "outputs": [],
   "source": [
    "# DESC TABLE: SQL command to display a table's structure \n",
    "DESC TABLE groceries;"
   ]
  },
  {
   "cell_type": "markdown",
   "id": "77a5c8a1-33f3-4e3a-99a3-9a82a8d84261",
   "metadata": {},
   "source": [
    "### Describing an entity\n",
    "Previously, you were introduced to the complexities of the e-commerce industry. Such platforms have a range of data, from product listings to customer reviews.\n",
    "\n",
    "Your task now is to use SQL to get an understanding of the structure of this ecommerceonlineretail table. Doing so will give you a clearer picture of the data points that e-commerce platforms prioritize."
   ]
  },
  {
   "cell_type": "code",
   "execution_count": null,
   "id": "60f35026-a94c-4426-a5a7-4ad551a68c12",
   "metadata": {},
   "outputs": [],
   "source": [
    "-- Describe the ecommerceonlineretail entity\n",
    "DESC TABLE ecommerceonlineretail;"
   ]
  },
  {
   "cell_type": "markdown",
   "id": "d0f51218-b63b-44aa-bb9f-849a97d55c73",
   "metadata": {},
   "source": [
    "## Exploring Conceptual and Logical Data Models"
   ]
  },
  {
   "cell_type": "code",
   "execution_count": null,
   "id": "75652f36-7a35-47f5-8795-e471d5cd290c",
   "metadata": {},
   "outputs": [],
   "source": [
    "# CREATE TABLE: SQL command to define a new table structure \n",
    "SELECT * FROM table_name;\n",
    "CREATE OR REPLACE TABLE customers (\n",
    "    customerid NUMBER(38,0), \n",
    "    country VARCHAR(255)\n",
    ");"
   ]
  },
  {
   "cell_type": "markdown",
   "id": "474a41a0-dede-4db0-9197-1f0496744934",
   "metadata": {},
   "source": [
    "### Implementing conceptual data model\n",
    "As you progress in this journey to model data, it's essential to get hands-on practice on how to implement the models.\n",
    "\n",
    "In our ongoing E-Commerce project, the logical and conceptual data model indicated to us that there are three key entities: customers, orders, and products.\n",
    "\n",
    "The customers entity is ready, and now, for this exercise, you will focus on defining the table structures for orders and products."
   ]
  },
  {
   "cell_type": "code",
   "execution_count": null,
   "id": "53e6fc56-c71a-4fb5-91c5-ef0a736522ba",
   "metadata": {},
   "outputs": [],
   "source": [
    "-- Create a new products entity\n",
    "CREATE OR REPLACE TABLE products (\n",
    "\t-- List the entity's attributes\n",
    "\tstockcode VARCHAR(255),\n",
    "    description VARCHAR(255)\n",
    ");"
   ]
  },
  {
   "cell_type": "code",
   "execution_count": null,
   "id": "3852888d-ce9d-4c26-9cf6-e8ca2b13d887",
   "metadata": {},
   "outputs": [],
   "source": [
    "-- Create a new orders entity\n",
    "CREATE OR REPLACE TABLE orders(\n",
    "\t-- List the invoice attributes\n",
    "\tinvoiceno VARCHAR(10),\n",
    "  \tinvoicedate TIMESTAMP_NTZ(9),\n",
    "  \t-- List the attributes related to price and quantity\n",
    "  \tunitprice NUMBER(10, 2),\n",
    "  \tquantity NUMBER(38, 0)\n",
    ");"
   ]
  },
  {
   "cell_type": "markdown",
   "id": "1d1be963-93dc-4220-8c7c-ea8e82083c90",
   "metadata": {},
   "source": [
    "## Exploring Physical Data Models"
   ]
  },
  {
   "cell_type": "code",
   "execution_count": null,
   "id": "f8ec84a7-e119-474b-8cb2-f2a4a9d80aee",
   "metadata": {},
   "outputs": [],
   "source": [
    "# PRIMARY KEY: SQL clause to define a column as the unique identifier \n",
    "CREATE OR REPLACE TABLE products (\n",
    "    stockcode VARCHAR(255) PRIMARY KEY, \n",
    "    description VARCHAR(255)\n",
    ");"
   ]
  },
  {
   "cell_type": "code",
   "execution_count": null,
   "id": "2663706f-b701-4a3d-abf3-82cb7f441f7d",
   "metadata": {},
   "outputs": [],
   "source": [
    "# FOREIGN KEY () REFERENCES (): SQL clause to define a column that references the primarykey of another table\n",
    "CREATE OR REPLACE TABLE orders (   \n",
    "    invoiceno INT,  \n",
    "    customerid INT,  \n",
    "    invoicedate DATE,  \n",
    "    unitprice DECIMAL(10, 2), \n",
    "    quantity INT,    \n",
    "    stockcode VARCHAR(255),\n",
    "    FOREIGN KEY (stockcode) REFERENCES products(stockcode)\n",
    ");"
   ]
  },
  {
   "cell_type": "code",
   "execution_count": null,
   "id": "4d1d30dc-ebd3-454b-8cc3-b0545131d114",
   "metadata": {},
   "outputs": [],
   "source": [
    "CREATEOR REPLACE TABLE table_name (   \n",
    "    unique_column column_datatype PRIMARY KEY,  \n",
    "    other_columns column_datatype,      \n",
    "    foreign_column column_datatype, \n",
    "    FOREIGN KEY (foreign_column) REFERENCES foreign_table(PK_from_foreign_table)\n",
    "    );"
   ]
  },
  {
   "cell_type": "markdown",
   "id": "3d4aa6ee-91e4-4bd7-973e-b95a9276c634",
   "metadata": {},
   "source": [
    "### Creating an entity\n",
    "As you've progressed from the conceptual to the logical stages of data modeling, you've learned to define the structures representing real-world entities and their connections. Now, it's time to put the knowledge into practice.\n",
    "\n",
    "In the e-commerce system, logical model included three essential tables: customers, products, and orders. These tables are designed to mirror the real interactions within a business context: customers generate orders, and orders contain products. Previously, you learned to create products, now it is time to define the customers table."
   ]
  },
  {
   "cell_type": "code",
   "execution_count": null,
   "id": "b25fb8fc-dee0-4b8b-a16c-214b0f685f72",
   "metadata": {},
   "outputs": [],
   "source": [
    "-- Create customers table \n",
    "CREATE OR REPLACE TABLE customers(\n",
    "  -- Define unique identifier\n",
    "  customerid NUMBER(38, 0) PRIMARY KEY,\n",
    "  country VARCHAR(255)\n",
    ");"
   ]
  },
  {
   "cell_type": "markdown",
   "id": "86a5e100-e8b4-49cc-a552-a33fe130b298",
   "metadata": {},
   "source": [
    "### Building the physical data model\n",
    "After creating all the entities and their respective attributes, the final step to completing the physical model is creating the relationships linking them.\n",
    "\n",
    "In an e-commerce system, there are three essential entities: customers, products, and orders. And the relationship cardinality is: One customer generates many orders, and one order can contain many products.\n",
    "\n",
    "You have previously created all the entities, and now it is time to create the relationships that link the orders table to customers and products as needed based on the cardinality described in the design of the physical model."
   ]
  },
  {
   "cell_type": "code",
   "execution_count": null,
   "id": "765e5fb7-1b05-4108-8789-1e301fe1b77a",
   "metadata": {},
   "outputs": [],
   "source": [
    "-- Re-create orders table\n",
    "CREATE OR REPLACE TABLE orders (\n",
    "  -- Assign unique identifier column\n",
    "  invoiceno VARCHAR(10) PRIMARY KEY,\n",
    "  invoicedate TIMESTAMP_NTZ(9),\n",
    "  unitprice NUMBER(10,2),\n",
    "  quantity NUMBER(38,0),\n",
    "  customerid NUMBER(38,0)\n",
    ");"
   ]
  },
  {
   "cell_type": "code",
   "execution_count": null,
   "id": "1f51f77b-9de3-4de8-8260-8115d0b3e6e5",
   "metadata": {},
   "outputs": [],
   "source": [
    "CREATE OR REPLACE TABLE orders (\n",
    "  \tinvoiceno VARCHAR(10) PRIMARY KEY,\n",
    "  \tinvoicedate TIMESTAMP_NTZ(9),\n",
    "  \tunitprice NUMBER(10,2),\n",
    "  \tquantity NUMBER(38,0),\n",
    "  \t-- Add columns that will refer the foreign key \n",
    "\tcustomerid NUMBER(38,0),\n",
    "  \tstockcode VARCHAR(255)\n",
    ");"
   ]
  },
  {
   "cell_type": "code",
   "execution_count": null,
   "id": "0161a48a-ff7a-4abb-947e-1198a34555ea",
   "metadata": {},
   "outputs": [],
   "source": [
    "CREATE OR REPLACE TABLE orders (\n",
    "  \tinvoiceno VARCHAR(10) PRIMARY KEY,\n",
    "  \tinvoicedate TIMESTAMP_NTZ(9),\n",
    "  \tunitprice NUMBER(10,2),\n",
    "  \tquantity NUMBER(38,0),\n",
    "  \tcustomerid NUMBER(38,0),\n",
    "  \tstockcode VARCHAR(255),\n",
    "  \t-- Add foreign key refering to the foreign tables\n",
    "\tFOREIGN KEY (customerid) REFERENCES customers(customerid),\n",
    "  \tFOREIGN KEY (stockcode) REFERENCES products(stockcode)\n",
    ");"
   ]
  },
  {
   "cell_type": "code",
   "execution_count": null,
   "id": "2410fd9f-2dcb-4508-8189-2c7b27fa0f67",
   "metadata": {},
   "outputs": [],
   "source": [
    "-- Create the orders table with proper structure and constraints\n",
    "CREATE OR REPLACE TABLE orders (\n",
    "    invoiceno VARCHAR(10) PRIMARY KEY,\n",
    "    invoicedate TIMESTAMP_NTZ(9) NOT NULL,\n",
    "    unitprice NUMBER(10,2) CHECK (unitprice >= 0),\n",
    "    quantity NUMBER(38,0) CHECK (quantity > 0),\n",
    "    customerid NUMBER(38,0) NOT NULL,\n",
    "    stockcode VARCHAR(255) NOT NULL,\n",
    "    \n",
    "    -- Foreign key constraints\n",
    "    FOREIGN KEY (customerid) REFERENCES customers(customerid),\n",
    "    FOREIGN KEY (stockcode) REFERENCES products(stockcode)  -- Assuming products table instead of ecommerceonlineretail\n",
    ");\n",
    "\n",
    "-- Alternative if you want to keep the ecommerceonlineretail reference:\n",
    "/*\n",
    "CREATE OR REPLACE TABLE orders (\n",
    "    invoiceno VARCHAR(10) PRIMARY KEY,\n",
    "    invoicedate TIMESTAMP_NTZ(9) NOT NULL,\n",
    "    unitprice NUMBER(10,2) CHECK (unitprice >= 0),\n",
    "    quantity NUMBER(38,0) CHECK (quantity > 0),\n",
    "    customerid NUMBER(38,0) NOT NULL,\n",
    "    stockcode VARCHAR(255) NOT NULL,\n",
    "    \n",
    "    -- Foreign key constraints\n",
    "    FOREIGN KEY (customerid) REFERENCES customers(customerid),\n",
    "    FOREIGN KEY (stockcode) REFERENCES ecommerceonlineretail(stockcode)\n",
    ");\n",
    "*/"
   ]
  },
  {
   "cell_type": "code",
   "execution_count": null,
   "id": "098b98a5-fc35-45b6-806c-54519da7db26",
   "metadata": {},
   "outputs": [],
   "source": []
  }
 ],
 "metadata": {
  "kernelspec": {
   "display_name": "Python 3 (ipykernel)",
   "language": "python",
   "name": "python3"
  },
  "language_info": {
   "codemirror_mode": {
    "name": "ipython",
    "version": 3
   },
   "file_extension": ".py",
   "mimetype": "text/x-python",
   "name": "python",
   "nbconvert_exporter": "python",
   "pygments_lexer": "ipython3",
   "version": "3.9.13"
  }
 },
 "nbformat": 4,
 "nbformat_minor": 5
}
