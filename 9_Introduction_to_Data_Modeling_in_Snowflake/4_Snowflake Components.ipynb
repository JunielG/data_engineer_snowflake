{
 "cells": [
  {
   "cell_type": "markdown",
   "id": "7e61160a-5e30-4d30-8822-b5e847386e24",
   "metadata": {},
   "source": [
    "## Query Performance in Snowflake"
   ]
  },
  {
   "cell_type": "code",
   "execution_count": null,
   "id": "836b4175-7392-4cd2-933c-b2f590c37be1",
   "metadata": {},
   "outputs": [],
   "source": []
  },
  {
   "cell_type": "code",
   "execution_count": null,
   "id": "f6d61fea-e4c0-4fc6-81b4-7576e437fa47",
   "metadata": {},
   "outputs": [],
   "source": []
  },
  {
   "cell_type": "markdown",
   "id": "76a50700-c466-48f1-a646-9bfbf4fc9f06",
   "metadata": {},
   "source": [
    "## Snowflake Data Objects"
   ]
  },
  {
   "cell_type": "code",
   "execution_count": null,
   "id": "03d28e2d-0025-4336-912d-e764bcaee8d2",
   "metadata": {},
   "outputs": [],
   "source": [
    "CREATE OR REPLACE MATERIALIZED VIEW top_customers AS \n",
    "SELECT o.o_custkey AS customer_id,   \n",
    "c.c_name AS customer_name, \n",
    "CASE \n",
    "WHEN SUM(o.o_totalprice) > 5000000 THEN 'Over Price' \n",
    "WHEN SUM(o.o_totalprice) > 3000000 THEN 'Top Price' \n",
    "WHEN SUM(o.o_totalprice) > 2000000 THEN 'Average Price' \n",
    "ELSE 'Review Price' \n",
    "END AS total_price \n",
    "FROM customer AS c \n",
    "JOIN orders AS o ON c.c_custkey = o.o_custkey \n",
    "GROUP BY o.o_custkey, c.c_name \n",
    "HAVING total_price > 2000000;"
   ]
  },
  {
   "cell_type": "markdown",
   "id": "302351e8-0e8c-4909-942c-2283d66cf350",
   "metadata": {},
   "source": [
    "### Implementing views\n",
    "The Star Customer financial company seeks to streamline its data management to efficiently categorize customers and track their product usage. You will create a view to facilitate quick and efficient data retrieval, calculating specific customer categories."
   ]
  },
  {
   "cell_type": "code",
   "execution_count": null,
   "id": "b760092d-df9e-45f1-b906-2c6226a1d835",
   "metadata": {},
   "outputs": [],
   "source": [
    "-- Create a view customer_financial_summary\n",
    "CREATE OR REPLACE VIEW customer_financial_summary AS \n",
    "SELECT c.customerid, \n",
    "\tc.estimatedsalary,\n",
    "\tcp.productid\n",
    "FROM customers AS c\n",
    "\t-- Merge entity\n",
    "LEFT JOIN customerproducts AS cp \n",
    "ON c.customerid = cp.customerid;"
   ]
  },
  {
   "cell_type": "code",
   "execution_count": null,
   "id": "055d85ea-6a07-4d8e-a5ec-a603e3a13d61",
   "metadata": {},
   "outputs": [],
   "source": [
    "CREATE OR REPLACE VIEW customer_financial_summary AS\n",
    "SELECT c.customerid, \n",
    "\t-- Create a new conditional attribute\n",
    "    CASE \n",
    "        WHEN AVG(c.estimatedsalary) > 150000 THEN 'Top Income'\n",
    "        WHEN AVG(c.estimatedsalary) > 90000 THEN 'High Income'\n",
    "        WHEN AVG(c.estimatedsalary) > 20000 THEN 'Average Income'\n",
    "        ELSE 'Low Income'\n",
    "    END AS customer_category,\n",
    "    -- Add aggregation to the attributes\n",
    "    COUNT(DISTINCT cp.productid) AS product_count\n",
    "FROM customers AS c\n",
    "\tLEFT JOIN customerproducts AS cp \n",
    "\tON c.customerid = cp.customerid\n",
    "-- Group the results\n",
    "GROUP BY c.customerid;"
   ]
  },
  {
   "cell_type": "markdown",
   "id": "92f4fdfa-81da-47ef-acef-31b6db0754c7",
   "metadata": {},
   "source": [
    "## Query Optimization"
   ]
  },
  {
   "cell_type": "code",
   "execution_count": null,
   "id": "114f058a-4076-42bd-944d-d9c0c7229664",
   "metadata": {},
   "outputs": [],
   "source": [
    "# Subqueries \n",
    "-- Query all guests that have more than 1000 loyalty points \n",
    "SELECT * \n",
    "FROM guests\n",
    "WHERE id IN (SELECT guest_id \n",
    "             FROM loyalty_program \n",
    "             WHERE loyalty_points > 1000\n",
    "             );"
   ]
  },
  {
   "cell_type": "code",
   "execution_count": null,
   "id": "46d43129-1b94-4412-a631-774c43d630d1",
   "metadata": {},
   "outputs": [],
   "source": [
    "WITH latest_booking AS (\n",
    "    SELECT guest_id, \n",
    "          MAX(checkout_date) AS latest_checkout \n",
    "    FROM booking_details \n",
    "    GROUP BY guest_id\n",
    "    ) \n",
    "SELECT bd.*,   \n",
    "       bd.checkout_date AS latest_booking_date \n",
    "FROM booking_details bd \n",
    "    JOIN latest_booking lb \n",
    "        ON bd.guest_id = lb.guest_id \n",
    "        AND bd.checkout_date = lb.latest_checkout;"
   ]
  },
  {
   "cell_type": "markdown",
   "id": "1a4cc81d-9e37-41c8-a858-a3c2e255e1dc",
   "metadata": {},
   "source": [
    "### Subquery mastery\n",
    "You are the data modeler of a business that manages hotel chain data. The business team has the task of examining customer data to inform retention strategies. The marketing department needs insights into high-income customers' activity status and engagement with the hotel's services. Your goal is to use the existing customer data to identify active and churned customers with a high estimated salary and to analyze their average age and tenure. To achieve this goal, you can use this pre-built common table expression CustomerStatus."
   ]
  },
  {
   "cell_type": "code",
   "execution_count": null,
   "id": "37eff97e-97a4-457b-bfeb-9106fc156310",
   "metadata": {},
   "outputs": [],
   "source": [
    "WITH customer_status AS (\n",
    "\tSELECT c.customerid,\n",
    "  \t\tc.age,\n",
    "        c.tenure,\n",
    "        CASE \n",
    "            WHEN ch.customerid IS NOT NULL THEN 'Churned' \n",
    "            ELSE 'Active' \n",
    "        END AS status\n",
    "    FROM customers AS c\n",
    "    \tLEFT JOIN churn AS ch \n",
    "  \t\tON c.customerid = ch.customerid\n",
    "    GROUP BY c.customerid, c.age, c.tenure, status\n",
    ")\n",
    "-- Extract attribute from CTE\n",
    "SELECT status\n",
    "FROM customer_status\n",
    "-- Filter results\n",
    "WHERE customerid IN (SELECT customerid\n",
    "                    FROM customers\n",
    "                   WHERE estimatedsalary > 175000);"
   ]
  },
  {
   "cell_type": "code",
   "execution_count": null,
   "id": "52b0c934-87a1-4802-abba-e353a95f82a6",
   "metadata": {},
   "outputs": [],
   "source": [
    "WITH customer_status AS (\n",
    "\tSELECT c.customerid,\n",
    "  \t\tc.age,\n",
    "        c.tenure,\n",
    "        CASE \n",
    "            WHEN ch.customerid IS NOT NULL THEN 'Churned' \n",
    "            ELSE 'Active' \n",
    "        END AS status\n",
    "    FROM customers AS c\n",
    "    \tLEFT JOIN churn AS ch \n",
    "  \t\tON c.customerid = ch.customerid\n",
    "    GROUP BY c.customerid, c.age, c.tenure, status\n",
    ")\n",
    "SELECT status,\n",
    "\t-- Count customers\n",
    "\tCOUNT(customerid) AS unique_customers\n",
    "FROM customer_status\n",
    "WHERE customerid IN (SELECT customerid \n",
    "                     FROM customers \n",
    "                     WHERE estimatedsalary > 175000)\n",
    "-- Aggregate values\n",
    "GROUP BY status;"
   ]
  },
  {
   "cell_type": "code",
   "execution_count": null,
   "id": "38a10472-f3bd-4ada-8520-b42b5056a5ac",
   "metadata": {},
   "outputs": [],
   "source": [
    "WITH customer_status AS (\n",
    "\tSELECT c.customerid,\n",
    "  \t\tc.age,\n",
    "        c.tenure,\n",
    "        CASE \n",
    "            WHEN ch.customerid IS NOT NULL THEN 'Churned' \n",
    "            ELSE 'Active' \n",
    "        END AS status\n",
    "    FROM customers AS c\n",
    "    \tLEFT JOIN churn AS ch \n",
    "  \t\tON c.customerid = ch.customerid\n",
    "    GROUP BY c.customerid, c.age, c.tenure, status\n",
    ")\n",
    "SELECT status,\n",
    "\tCOUNT(customerid) AS unique_customers,\n",
    "    -- Calculate averages\n",
    "    AVG(age) AS average_age,\n",
    "    AVG(tenure) AS average_tenure\n",
    "FROM customer_status\n",
    "WHERE customerid IN (SELECT customerid \n",
    "                     FROM customers \n",
    "                     WHERE estimatedsalary > 175000)\n",
    "GROUP BY status\n",
    "-- Filter data\n",
    "HAVING average_tenure > 2;"
   ]
  },
  {
   "cell_type": "code",
   "execution_count": null,
   "id": "64a792c1-948b-4370-8a0f-0881f1fb179b",
   "metadata": {},
   "outputs": [],
   "source": []
  }
 ],
 "metadata": {
  "kernelspec": {
   "display_name": "Python 3 (ipykernel)",
   "language": "python",
   "name": "python3"
  },
  "language_info": {
   "codemirror_mode": {
    "name": "ipython",
    "version": 3
   },
   "file_extension": ".py",
   "mimetype": "text/x-python",
   "name": "python",
   "nbconvert_exporter": "python",
   "pygments_lexer": "ipython3",
   "version": "3.9.13"
  }
 },
 "nbformat": 4,
 "nbformat_minor": 5
}
