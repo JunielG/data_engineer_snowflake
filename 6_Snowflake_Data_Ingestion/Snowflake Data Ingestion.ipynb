{
 "cells": [
  {
   "cell_type": "markdown",
   "id": "d9f522b3-24e0-4863-b6d7-83f7cb03b95b",
   "metadata": {},
   "source": [
    "## Step 1: Loading Data Using COPY INTO\n",
    "Let’s go over a simple example of loading a CSV file into your Snowflake database.\n",
    "1. Prepare and upload data Format your files (e.g., CSV) and upload them to your cloud storage bucket.\n",
    "2. Create stage and file format"
   ]
  },
  {
   "cell_type": "code",
   "execution_count": null,
   "id": "f4f12be8-9e39-4235-a16f-86a28e691372",
   "metadata": {},
   "outputs": [],
   "source": [
    "/* specify the file format */CREATE FILE FORMAT my_csv_format TYPE = 'CSV' \n",
    "\n",
    "/* this will help if there are double quotes or apostrophes in your data */\n",
    "\n",
    "FIELD_OPTIONALLY_ENCLOSED_BY='\"';\n",
    "\n",
    "/* Stage the data using the credentials you have */\n",
    "\n",
    "CREATE STAGE my_stage URL='s3://my-bucket/data/' CREDENTIALS=(AWS_KEY_ID='...' AWS_SECRET_KEY='...');"
   ]
  },
  {
   "cell_type": "markdown",
   "id": "4390f2cc-2a1c-4219-9e15-cca267b4a5a1",
   "metadata": {},
   "source": [
    "3. Run COPY INTO and Verify"
   ]
  },
  {
   "cell_type": "code",
   "execution_count": null,
   "id": "0b72fd6a-e5db-4c93-9800-939732c873b7",
   "metadata": {},
   "outputs": [],
   "source": [
    "COPY INTO my_table FROM @my_stage FILE_FORMAT = (FORMAT_NAME = 'my_csv_format');SELECT * FROM my_table;"
   ]
  },
  {
   "cell_type": "markdown",
   "id": "b0750cf9-5880-4595-b804-e7e57b2b2b11",
   "metadata": {},
   "source": [
    "## Step 2: Automating Ingestion with Snowpipe\n",
    "\n",
    "Creating an automated ingestion using Snowpipe can be pretty simple!\n",
    "1. Create Snowpipe"
   ]
  },
  {
   "cell_type": "code",
   "execution_count": null,
   "id": "c778a2ae-8a22-41ef-bbcb-099686b48d02",
   "metadata": {},
   "outputs": [],
   "source": [
    "CREATE PIPE my_pipe \n",
    "\n",
    "AUTO_INGEST = TRUE\n",
    "\n",
    "   AWS_SNS_TOPIC = 'arn:aws:sns:us-west-2:001234567890:s3_mybucket'\n",
    "\n",
    "\tAS \n",
    "\n",
    "COPY INTO my_table \n",
    "\n",
    "FROM @my_stage\n",
    "\n",
    " FILE_FORMAT = (TYPE = ‘CSV’);"
   ]
  },
  {
   "cell_type": "markdown",
   "id": "2d68b044-84f2-4431-adb9-8c173ea7cb28",
   "metadata": {},
   "source": [
    "2. Configure cloud storage events\\\n",
    "Set up S3 bucket notification to trigger the pipe using SNS/SQS. For more details, I would follow this guide on AWS SNS from Datacamp.\n",
    "4. Monitor ingestion\\\n",
    "Make sure to query the metadata table SNOWPIPE_EXECUTION_HISTORY to view pipe activity."
   ]
  },
  {
   "cell_type": "markdown",
   "id": "d1fdaef7-67ee-463a-9d1f-38a498e85266",
   "metadata": {},
   "source": [
    "## Step 3: Streaming Data with Snowpipe Streaming\n",
    "\n",
    "Setting up Snowpipe Streaming can be quite intense and is somewhat more detailed than we can cover here. I will cover some of the fundamental steps, but I mostly recommend reading the examples from the Snowflake Streaming documentation for how to build the client SDK.\n",
    "Set Up SDK: Install the Snowflake Ingest SDK in your Java or Scala application. Then, configure the API connection settings in a profile.json file. The required properties involve authorization credentials, URL for Snowflake, and the user. This allows the SDK to connect to your Snowflake server. Write out the rest of your Java script to handle the data coming, including the insertRows method.\n",
    "Stream data with a sample app: Push the data from your Kafka connector using the ClientSDK to call your Snowflake API.\n",
    "Monitor and handle errors: Catch SDK exceptions, retry failed requests, and monitor ingestion metrics using metadata tables and dashboard. Make sure your API is designed to stop errors and send out error notifications."
   ]
  },
  {
   "cell_type": "code",
   "execution_count": null,
   "id": "c33b4011-c5ec-4186-a395-4e431528bd6f",
   "metadata": {},
   "outputs": [],
   "source": []
  }
 ],
 "metadata": {
  "kernelspec": {
   "display_name": "Python 3 (ipykernel)",
   "language": "python",
   "name": "python3"
  },
  "language_info": {
   "codemirror_mode": {
    "name": "ipython",
    "version": 3
   },
   "file_extension": ".py",
   "mimetype": "text/x-python",
   "name": "python",
   "nbconvert_exporter": "python",
   "pygments_lexer": "ipython3",
   "version": "3.9.13"
  }
 },
 "nbformat": 4,
 "nbformat_minor": 5
}
