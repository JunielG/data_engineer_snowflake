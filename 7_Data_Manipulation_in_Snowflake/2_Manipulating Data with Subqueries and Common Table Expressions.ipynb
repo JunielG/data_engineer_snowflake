{
 "cells": [
  {
   "cell_type": "markdown",
   "id": "7d899931-e913-431f-a8a3-60371928d5e5",
   "metadata": {},
   "source": [
    "## Subqueries"
   ]
  },
  {
   "cell_type": "code",
   "execution_count": null,
   "id": "18c07d3b-7fb5-4b2f-b003-11d70dd81730",
   "metadata": {},
   "outputs": [],
   "source": [
    "-- Start with the subquery, then aggregate\n",
    "SELECT   \n",
    "month_num,\n",
    "AVG(differential) AS avg_differential\n",
    "MIN(differential) AS most_differential\n",
    "FROM (\n",
    "    SELECT  \n",
    "    month_num,     \n",
    "    windchill - temperature AS differential\n",
    "FROM weather \n",
    "WHERE season = 'Winter' AND     \n",
    "temperature < 32\n",
    ")\n",
    "GROUP BY month_num;\n",
    "\n",
    "\n",
    "\n",
    "SELECT    \n",
    "todays_date, \n",
    "temperature,   \n",
    "status \n",
    "FROM weather \n",
    "WHERE todays_date IN (  -- Filter by all days with home games that were won\n",
    "                        SELECT     \n",
    "                        game_date \n",
    "                        FROM game_schedule \n",
    "                        WHERE stadium = 'Home' AND did_win = TRUE\n",
    ");"
   ]
  },
  {
   "cell_type": "markdown",
   "id": "221e1954-b5ce-4cc5-bb01-2ce5a747fea3",
   "metadata": {},
   "source": [
    "### Are jazz songs long?\n",
    "Your manager came to you with a question; how does track length differ by genre? To answer this question, you'll want to use a subquery to join the track and genre tables. Good luck!"
   ]
  },
  {
   "cell_type": "code",
   "execution_count": null,
   "id": "c66a6206-573b-43bb-bd35-21bb21559614",
   "metadata": {},
   "outputs": [],
   "source": [
    "SELECT\n",
    "\t-- Find the genre name and average milliseconds\n",
    "    genre_name,\n",
    "    AVG(milliseconds) AS average_milliseconds\n",
    "-- Retrieve records from the result of the subquery\n",
    "FROM (\n",
    "    SELECT\n",
    "        genre.name AS genre_name,\n",
    "        track.genre_id,\n",
    "        track.milliseconds\n",
    "    FROM store.track\n",
    "    JOIN store.genre ON track.genre_id = genre.genre_id\n",
    ")\n",
    "-- Group the results by the genre name\n",
    "GROUP BY genre_name;"
   ]
  },
  {
   "cell_type": "markdown",
   "id": "8c70c741-5b6a-42ce-90b7-36969d7eb462",
   "metadata": {},
   "source": [
    "### Identifying large transactions\n",
    "When customers buy a lot, you want to know why! In this exercise, you'll practice using subqueries to retrieve details about transactions with more than 10 line items."
   ]
  },
  {
   "cell_type": "code",
   "execution_count": null,
   "id": "86e2364e-43a6-4e7b-86d7-0760f286b052",
   "metadata": {},
   "outputs": [],
   "source": [
    "SELECT\n",
    "    invoice_id,\n",
    "    COUNT(invoice_id) AS total_invoice_lines\n",
    "FROM store.invoiceline\n",
    "GROUP BY invoice_id\n",
    "-- Only pull records with more than 10 total invoice lines\n",
    "HAVING total_invoice_lines > 10;"
   ]
  },
  {
   "cell_type": "code",
   "execution_count": null,
   "id": "784e5e4e-5584-4aeb-970d-dea2c2271675",
   "metadata": {},
   "outputs": [],
   "source": [
    "SELECT\n",
    "\tbilling_country,\n",
    "    SUM(total) AS total_invoice_amount\n",
    "FROM store.invoice\n",
    "WHERE invoice_id IN (\n",
    "  SELECT\n",
    "      invoice_id,\n",
    "  FROM store.invoiceline\n",
    "  GROUP BY invoice_id\n",
    "  HAVING COUNT(invoice_id) > 10\n",
    ")\n",
    "GROUP BY billing_country;"
   ]
  },
  {
   "cell_type": "markdown",
   "id": "b28075ec-cd6e-42cc-ada6-b7aac4c8fd29",
   "metadata": {},
   "source": [
    "## Common Table Expressions"
   ]
  },
  {
   "cell_type": "code",
   "execution_count": null,
   "id": "1d6c9356-7809-4c4c-bed9-53a14d65fd8c",
   "metadata": {},
   "outputs": [],
   "source": [
    "WITH at_risk AS (\n",
    "    SELECT     \n",
    "    student_id  \n",
    "    course_name,  \n",
    "    teacher_name,   \n",
    "    grade \n",
    "    FROM student_courses \n",
    "WHERE grade < 70 AND is_required \n",
    ")\n",
    "SELECT  \n",
    "students.student_name, \n",
    "at_risk.* \n",
    "FROM at_risk \n",
    "JOIN students ON at_risk.student_id = students.id;"
   ]
  },
  {
   "cell_type": "code",
   "execution_count": null,
   "id": "ff4c8f92-38d5-414c-a569-d77e76f02904",
   "metadata": {},
   "outputs": [],
   "source": [
    "-- Start with the subquery, then aggregate\n",
    "SELECT   \n",
    "month_num,\n",
    "AVG(differential) AS avg_differential\n",
    "MIN(differential) AS most_differential\n",
    "FROM (\n",
    "    SELECT  \n",
    "    month_num,     \n",
    "    windchill - temperature AS differential\n",
    "FROM weather \n",
    "WHERE season = 'Winter' AND     \n",
    "temperature < 32\n",
    ")\n",
    "GROUP BY month_num;\n",
    "\n",
    "-- CTE\n",
    "WITH daily_temperature_differential AS (\n",
    "    SELECT        \n",
    "    month_num,    \n",
    "    windchill - temperature AS differential\n",
    "    FROM weather \n",
    "    WHERE     \n",
    "    season = 'Winter' AND       \n",
    "    temperature <32\n",
    "    )\n",
    "    \n",
    "SELECT   \n",
    "    month_num,\n",
    "    AVG(differential) AS avg_differential\n",
    "    MIN(differential) AS most_differential \n",
    "FROM daily_temperature_differential \n",
    "GROUP BY month_num;"
   ]
  },
  {
   "cell_type": "markdown",
   "id": "92eef2a2-930a-496d-a980-468b7fe73cd8",
   "metadata": {},
   "source": [
    "### Analyzing track length\n",
    "Previously, you used a subquery to find the average length of songs, in milliseconds, for each genre. Now, you're going to do something similar with a common table expression, but this time, with a bit more attention to detail. Let's get to it!"
   ]
  },
  {
   "cell_type": "code",
   "execution_count": null,
   "id": "bb20599b-be1b-486a-8a99-5c0bd281e473",
   "metadata": {},
   "outputs": [],
   "source": [
    "-- Create a CTE named track_lengths\n",
    "WITH track_lengths AS (\n",
    "\tSELECT\n",
    "        genre.name,\n",
    "        track.genre_id,\n",
    "        track.milliseconds / 1000 AS num_seconds\n",
    "    FROM store.track\n",
    "    JOIN store.genre ON track.genre_id = genre.genre_id\n",
    ")\n",
    "\n",
    "SELECT\n",
    "    track_lengths.name,\n",
    "    -- Find the average length of each track in seconds\n",
    "    AVG(track_lengths.num_seconds) AS avg_track_length\n",
    "FROM track_lengths\n",
    "GROUP BY track_lengths.name\n",
    "-- Sort the results by average track_length\n",
    "ORDER BY avg_track_length DESC;"
   ]
  },
  {
   "cell_type": "markdown",
   "id": "f45edb07-8dff-44c0-a3ba-e63e444a16ae",
   "metadata": {},
   "source": [
    "### Finding the most efficient composer\n",
    "Here's a fun one! You're chatting with your coworker, and you decide that you want to find the artist that (on average) prices their songs the most per second. To do this, you'll use the tracks table and a Common Table Expression."
   ]
  },
  {
   "cell_type": "code",
   "execution_count": null,
   "id": "8d6e715a-2e22-4b91-8014-e673959f356b",
   "metadata": {},
   "outputs": [],
   "source": [
    "-- Create a CTE called track_metrics, convert milliseconds to seconds\n",
    "WITH track_metrics AS (\n",
    "    SELECT \n",
    "        composer,\n",
    "        milliseconds / 1000 AS num_seconds,\n",
    "        unit_price\n",
    "    FROM store.track\n",
    " \t-- Retrieve records where composer is not NULL\n",
    "    WHERE composer IS NOT NULL\n",
    ")\n",
    "\n",
    "SELECT\n",
    "    composer,\n",
    "    -- Find the average price-per-second\n",
    "    AVG(unit_price / num_seconds) AS cost_per_second\n",
    "    FROM track_metrics\n",
    "GROUP BY composer\n",
    "ORDER BY cost_per_second DESC;"
   ]
  },
  {
   "cell_type": "markdown",
   "id": "1256e539-1b17-4e41-98ec-aef583f3dfbd",
   "metadata": {},
   "source": [
    "## Advanced Common Table Expressions"
   ]
  },
  {
   "cell_type": "markdown",
   "id": "a37df057-41d6-4078-822f-915b78d42882",
   "metadata": {},
   "source": [
    "### Building a detailed invoice\n",
    "In the store schema, you have the invoice, invoiceline, and track table. However, these don't quite stand on their own. To get a better idea of customer behavior, we're going to \"recreate\" each of these invoices with a bit more detail. We'll do this using two common table expressions, which you'll build from the ground up."
   ]
  },
  {
   "cell_type": "code",
   "execution_count": null,
   "id": "10f43630-5621-49c7-8b74-20d74c9fd015",
   "metadata": {},
   "outputs": [],
   "source": [
    "-- Create the cleaned_invoices CTE\n",
    "WITH cleaned_invoices AS (\n",
    "    SELECT\n",
    "        invoice_id,\n",
    "        invoice_date\n",
    "    FROM store.invoice\n",
    "    WHERE billing_country = 'Germany'\n",
    ")\n",
    "\n",
    "SELECT * FROM cleaned_invoices;"
   ]
  },
  {
   "cell_type": "code",
   "execution_count": null,
   "id": "0c25e81e-9d3a-4aee-af30-dd5d35f3da4e",
   "metadata": {},
   "outputs": [],
   "source": [
    "-- Create the cleaned_invoices CTE\n",
    "WITH cleaned_invoices AS (\n",
    "    SELECT\n",
    "        invoice_id,\n",
    "        invoice_date\n",
    "    FROM store.invoice\n",
    "    WHERE billing_country = 'Germany'\n",
    "\n",
    ")\n",
    "\n",
    "-- Create the detailed_invoice_lines CTE\n",
    ", detailed_invoice_lines AS (\n",
    "  \n",
    "    SELECT\n",
    "        invoiceline.invoice_id,\n",
    "        invoiceline.invoice_line_id,\n",
    "        track.name,\n",
    "        invoiceline.unit_price,\n",
    "        invoiceline.quantity\n",
    "    FROM store.invoiceline\n",
    "    LEFT JOIN store.track ON invoiceline.track_id = track.track_id\n",
    ")\n",
    "\n",
    "SELECT * FROM detailed_invoice_lines;"
   ]
  },
  {
   "cell_type": "code",
   "execution_count": null,
   "id": "5886a0ff-6c00-4f0a-9aaa-2a45cdfb58e4",
   "metadata": {},
   "outputs": [],
   "source": [
    "WITH cleaned_invoices AS (\n",
    "    SELECT\n",
    "        invoice_id,\n",
    "        invoice_date\n",
    "    FROM store.invoice\n",
    "    WHERE billing_country = 'Germany'\n",
    "), \n",
    "\n",
    "detailed_invoice_lines AS (\n",
    "    SELECT\n",
    "        invoiceline.invoice_id,\n",
    "        invoiceline.invoice_line_id,\n",
    "        track.name,\n",
    "        invoiceline.unit_price,\n",
    "        invoiceline.quantity,\n",
    "    FROM store.invoiceline\n",
    "    LEFT JOIN store.track ON invoiceline.track_id = track.track_id\n",
    ")\n",
    "\n",
    "SELECT\n",
    "    ci.invoice_id,\n",
    "    ci.invoice_date,\n",
    "    dil.name,\n",
    "    -- Find the total amount for the line\n",
    "    dil.unit_price * dil.quantity AS line_amount\n",
    "FROM detailed_invoice_lines AS dil\n",
    "\n",
    "-- JOIN the cleaned_invoices and detailed_invoice_lines CTEs\n",
    "LEFT JOIN cleaned_invoices AS ci ON dil.invoice_id = ci.invoice_id\n",
    "ORDER BY ci.invoice_id, line_amount;"
   ]
  },
  {
   "cell_type": "markdown",
   "id": "9ec68962-8ff3-4cc3-adba-0329a190e6f2",
   "metadata": {},
   "source": [
    "### Finding the most popular artists\n",
    "Something that we haven't been able to do is tie track sales to an artist. Let's change that! You're about to get hands-on using common table expressions to take data from two tables and find the artist with the most minutes listened. Before you get started, make sure to take a peek at the album and artist tables in the output window."
   ]
  },
  {
   "cell_type": "code",
   "execution_count": null,
   "id": "fbf2e4e9-b768-479a-a0f1-671cab708257",
   "metadata": {},
   "outputs": [],
   "source": [
    "-- Create an artist_info CTE, JOIN the artist and album tables\n",
    "WITH artist_info AS (\n",
    "    SELECT\n",
    "        album.album_id,\n",
    "        artist.name AS artist_name\n",
    "    FROM store.album\n",
    "    JOIN store.artist ON album.artist_id = artist.artist_id\n",
    "\n",
    "-- Define a track_sales CTE to assign an album_id, name,\n",
    "-- and number of seconds for each track\n",
    "), track_sales AS (\n",
    "    SELECT\n",
    "        track.album_id,\n",
    "        track.name,\n",
    "        track.milliseconds / 1000 AS num_seconds\n",
    "    FROM store.invoiceline\n",
    "    JOIN store.track ON invoiceline.track_id = track.track_id\n",
    ")\n",
    "\n",
    "SELECT\n",
    "    ai.artist_name,\n",
    "    -- Calculate total minutes listed\n",
    "    SUM(ts.num_seconds) / 60 AS minutes_listened\n",
    "FROM track_sales AS ts\n",
    "JOIN artist_info AS ai ON ts.album_id = ai.album_id\n",
    "-- Group the results by the non-aggregated column\n",
    "GROUP BY ai.artist_name\n",
    "ORDER BY minutes_listened DESC;"
   ]
  },
  {
   "cell_type": "markdown",
   "id": "0d9b834a-c698-47dc-863b-222013993bae",
   "metadata": {},
   "source": [
    "### Albums driving sales\n",
    "Your director came up to your desk today and gave you the inside scoop on a holiday promotion on \"Greatest Hits\" albums that will be dropping soon. However, to make sure the optimal albums are discounted, she wants to know which \"Greatest Hits\" albums drive the most sales. To do this, you'll put all the skills you learned to the test!"
   ]
  },
  {
   "cell_type": "code",
   "execution_count": null,
   "id": "6cc4e5dd-f674-40c8-a3da-99c5e253c620",
   "metadata": {},
   "outputs": [],
   "source": [
    "-- Define an album_map CTE to combine albums and artists\n",
    "WITH album_map AS (\n",
    "    SELECT\n",
    "        album.album_id, album.title AS album_name, artist.name AS artist_name,\n",
    "  \t\t-- Determine if an album is a \"Greatest Hits\" album\n",
    "        CASE \n",
    "            WHEN album_name ILIKE '%greatest%' THEN TRUE\n",
    "            ELSE FALSE\n",
    "        END AS is_greatest_hits\n",
    "    FROM store.album\n",
    "    JOIN store.artist ON album.artist_id = artist.artist_id\n",
    "), trimmed_invoicelines AS (\n",
    "    SELECT\n",
    "        invoiceline.invoice_id, track.album_id, invoice.total\n",
    "    FROM store.invoiceline\n",
    "    LEFT JOIN store.invoice ON invoiceline.invoice_id = invoice.invoice_id\n",
    "    LEFT JOIN store.track ON invoiceline.track_id = track.track_id\n",
    ")\n",
    "\n",
    "SELECT\n",
    "    album_map.album_name,\n",
    "    album_map.artist_name,\n",
    "    SUM(ti.total) AS total_sales_driven\n",
    "FROM trimmed_invoicelines AS ti\n",
    "JOIN album_map ON ti.album_id = album_map.album_id\n",
    "-- Use a subquery to only \"Greatest Hits\" records\n",
    "WHERE ti.album_id IN (SELECT album_id FROM album_map WHERE is_greatest_hits)\n",
    "GROUP BY album_map.album_name, album_map.artist_name, is_greatest_hits\n",
    "ORDER BY total_sales_driven DESC;"
   ]
  },
  {
   "cell_type": "code",
   "execution_count": null,
   "id": "6c6c6e89-a66a-4a78-a3d4-ddbd9af7da67",
   "metadata": {},
   "outputs": [],
   "source": []
  }
 ],
 "metadata": {
  "kernelspec": {
   "display_name": "Python 3 (ipykernel)",
   "language": "python",
   "name": "python3"
  },
  "language_info": {
   "codemirror_mode": {
    "name": "ipython",
    "version": 3
   },
   "file_extension": ".py",
   "mimetype": "text/x-python",
   "name": "python",
   "nbconvert_exporter": "python",
   "pygments_lexer": "ipython3",
   "version": "3.9.13"
  }
 },
 "nbformat": 4,
 "nbformat_minor": 5
}
