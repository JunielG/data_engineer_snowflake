{
 "cells": [
  {
   "cell_type": "markdown",
   "id": "7701ef93-d65c-4018-83af-9ac6cb7233a7",
   "metadata": {},
   "source": [
    "## Data manipulation in Snowflake"
   ]
  },
  {
   "cell_type": "markdown",
   "id": "979d3bbf-0d42-4dd4-89bc-4cfb8111322c",
   "metadata": {},
   "source": [
    "### Explore the Store data\n",
    "Today is your first day at an online music retailer. As part of your technical onboarding, you'll need to hop into the Snowflake UI and explore the database that starts with COURSE_40931. This is the database that you'll be responsible for working with as part of your new role. It contains information about songs, albums, and artists, as well as the sale of these songs."
   ]
  },
  {
   "cell_type": "markdown",
   "id": "20265341-93d9-48c4-b8bb-e919b39bfb58",
   "metadata": {},
   "source": [
    "### Is this a premium song?\n",
    "In the last exercise, you used the Snowflake UI to explore the database and tables that you'll be working with. Throughout the course, we'll switch back and forth between the Snowflake UI and the query editor you see here. Now, it's time to get hands-on with CASE statements. First, you'll use the track table to categorize the unit price of each song. Let's get to it!"
   ]
  },
  {
   "cell_type": "code",
   "execution_count": null,
   "id": "2bd057f8-e07b-47b9-8d68-98ae98c9b85c",
   "metadata": {},
   "outputs": [],
   "source": [
    "SELECT\n",
    "\tname,\n",
    "    composer,\n",
    "    -- Begin a CASE statement\n",
    "    CASE\n",
    "        -- A song priced at 0.99 should be a 'Standard Song'\n",
    "    \tWHEN unit_price = 0.99 THEN 'Standard Song'\n",
    "        -- Songs costing 1.99 should be denoted as 'Premium Song'\n",
    "        WHEN unit_price = 1.99 THEN 'Premium Song'\n",
    "    END AS song_description\n",
    "FROM store.track;"
   ]
  },
  {
   "cell_type": "markdown",
   "id": "1c72f3a4-135d-4865-827b-30ef958b8f0c",
   "metadata": {},
   "source": [
    "## Conditional logic with CASE statements"
   ]
  },
  {
   "cell_type": "code",
   "execution_count": null,
   "id": "85ea2de7-cc4d-457e-a5c1-fdddda7a4970",
   "metadata": {},
   "outputs": [],
   "source": [
    "SELECT \n",
    "todays_date,   \n",
    "temperature,\n",
    "CASE WHEN temperature BETWEEN 70 AND 90 THEN 'Ideal for Swimming'\n",
    "WHEN temperature >= 50 AND tempreature < 70 THEN 'Perfect for Sports'\n",
    "WHEN temperature > 32 AND temperature < 50 THEN 'Spring/Fall Temps'\n",
    "WHEN temperature > 0 AND temperature <= 32 THEN 'Winter Weather'\n",
    "ELSE'Extreme Temperatures' \n",
    "END AS temperature_description\n",
    "FROM weather;\n",
    "\n",
    "\n",
    "\n",
    "SELECT   \n",
    "todays_date, \n",
    "temperature,   \n",
    "status,\n",
    "CASE WHEN temperature > 70 AND status NOT IN ('Rain', 'Wind') THEN 'Beach'\n",
    "WHEN temperature BETWEEN 45 AND 70 AND status = 'Sun' THEN 'Sports'\n",
    "WHEN temperature <= 32 OR status = 'Snow' THEN 'Skiing'\n",
    "ELSE 'Stay In'\n",
    "END AS activity \n",
    "FROM weather;"
   ]
  },
  {
   "cell_type": "markdown",
   "id": "77e5bbbe-d0ec-4ebe-b271-4a94918cccc7",
   "metadata": {},
   "source": [
    "### Inferring purchase quantity\n",
    "Now that you've played around with the tracks table, it's time to check out something new. The invoice table shows the total amount tendered as part of the transactions, but it doesn't say how many songs were bought. You'll fix that using a CASE statement to determine if a customer bought more than one song in a single transaction. An important little tidbit of information: there are only two different unit prices for a song (0.99 and 1.99)."
   ]
  },
  {
   "cell_type": "code",
   "execution_count": null,
   "id": "b3b8a51c-6a83-49d6-8ab6-5f28138eaecf",
   "metadata": {},
   "outputs": [],
   "source": [
    "SELECT\n",
    "\tcustomer_id,\n",
    "    total,\n",
    "    CASE\n",
    "        -- Check if total is either 0.99 or 1.99 using IN\n",
    "    \tWHEN total IN (0.99, 1.99) THEN '1 Song'\n",
    "        -- Catch the scenarios when the above is not true\n",
    "        ELSE '2+ Songs'\n",
    "    -- End the CASE statement and name the new column\n",
    "    END AS number_of_songs\n",
    "FROM store.invoice;"
   ]
  },
  {
   "cell_type": "markdown",
   "id": "8b950988-8cf0-465e-9771-886e4b936499",
   "metadata": {},
   "source": [
    "### Is this a long song?\n",
    "Ever feel like a song is just dragging on? In this exercise, you're going to categorize each song based on its length, which is either short, normal, or long. Good luck!"
   ]
  },
  {
   "cell_type": "code",
   "execution_count": null,
   "id": "ec67de55-81cb-4018-a273-c4402f8679f1",
   "metadata": {},
   "outputs": [],
   "source": [
    "SELECT\n",
    "\tname,\n",
    "    milliseconds,\n",
    "    CASE\n",
    "    \tWHEN milliseconds < 180000 THEN 'Short Song'\n",
    "        WHEN milliseconds BETWEEN 180000 AND 300000 THEN 'Normal Length'\n",
    "        ELSE 'Long Song'\n",
    "    END AS song_length\n",
    "FROM store.track;"
   ]
  },
  {
   "cell_type": "markdown",
   "id": "e5fb2c7a-6a14-4fa6-aa36-6f30f6c76446",
   "metadata": {},
   "source": [
    "### Determining buyer intent\n",
    "You've determined that a few things go into a customer buying a song. These include things like the genre and length of a song, as well as its price. Now, you're going to translate these into actionable data by writing a query to measure buyer intent."
   ]
  },
  {
   "cell_type": "code",
   "execution_count": null,
   "id": "b26c7739-e085-425c-bdf5-79f139c339c8",
   "metadata": {},
   "outputs": [],
   "source": [
    "SELECT\n",
    "    name,\n",
    "    unit_price,\n",
    "    CASE\n",
    "        -- Inexpensive Rock and Pop songs are always high-intent\n",
    "        WHEN unit_price = 0.99 AND genre_id IN (5, 9) THEN 'High'\n",
    "        -- Shorter, non-EDM tracks have neutral buyer intent\n",
    "        WHEN milliseconds < 300000 AND genre_id != 15 THEN 'Neutral'\n",
    "\t\t-- Everything else is low\n",
    "        ELSE 'Low'\n",
    "    END AS buyer_intent\n",
    "FROM store.track;"
   ]
  },
  {
   "cell_type": "markdown",
   "id": "9e9f891c-cb56-40c8-8d6e-1ba547b3ae51",
   "metadata": {},
   "source": [
    "## Applying conditional logic in Snowflake"
   ]
  },
  {
   "cell_type": "code",
   "execution_count": null,
   "id": "6acdd2b1-2d2f-4074-9309-233fa97ac25c",
   "metadata": {},
   "outputs": [],
   "source": [
    "SELECT \n",
    "CASE WHEN month_num IN (12, 1, 2) THEN 'Winter'\n",
    "     WHEN month_num IN (3, 4, 5) THEN 'Spring'\n",
    "     WHEN month_num IN (6, 7, 8) THEN 'Summer'\n",
    "ELSE 'Fall' \n",
    "END AS season, \n",
    "AVG(temperature) AS average_temperature,  -- Manipulate data with AVG()   \n",
    "year_num \n",
    "FROM weather \n",
    "GROUP BY season, year_num;  -- Remember to group by non-aggregated fields\n",
    "\n",
    "\n",
    "\n",
    "SELECT   \n",
    "season,\n",
    "AVG(\n",
    "    CASE \n",
    "      WHEN season = Winter THEN temperature -30 \n",
    "      WHEN season IN ('Spring', 'Fall') THEN temperature -60\n",
    "      WHEN season = Summer' THEN temperature -75 \n",
    "      END   \n",
    "      ) AS relation_to_average_temperature\n",
    "FROM weather \n",
    "GROUP BY season;\n",
    "\n",
    "\n",
    "\n",
    "\n",
    "SELECT \n",
    "students.student_name,   \n",
    "student_courses.course_name, -- Evaluate both the student's grade number and grade for the course\n",
    "CASE \n",
    "    WHEN students.grade_num = 12 AND student_courses.grade > 90 THEN 'College Credit Eligible'\n",
    "ELSE 'Too Early for College Credit' \n",
    "END AS college_credit_status\n",
    "FROM student_courses \n",
    "LEFT JOIN students ON student_courses.student_id = students.student_id;"
   ]
  },
  {
   "cell_type": "markdown",
   "id": "9267d28a-9b91-4eb4-a0fc-5b8a07dd4e97",
   "metadata": {},
   "source": [
    "### Comparing invoice totals\n",
    "Previously, you worked to categorize invoices based on the number of songs sold. Now, you'll take that to the next level. Your goal is to determine just how much more customers spend when buying multiple songs. Good luck!"
   ]
  },
  {
   "cell_type": "code",
   "execution_count": null,
   "id": "4f66be57-569f-4996-9525-61cf30063086",
   "metadata": {},
   "outputs": [],
   "source": [
    "-- Run this query without editing it.\n",
    "SELECT\n",
    "\tcustomer_id,\n",
    "    total,\n",
    "    CASE\n",
    "    \tWHEN total IN (0.99, 1.99) THEN '1 Song'\n",
    "        ELSE '2+ Songs'\n",
    "    END as number_of_songs\n",
    "FROM store.invoice;"
   ]
  },
  {
   "cell_type": "code",
   "execution_count": null,
   "id": "2cda3aa0-7130-4e94-8602-ac13cb35bd1e",
   "metadata": {},
   "outputs": [],
   "source": [
    "SELECT\n",
    "    CASE\n",
    "    \tWHEN total IN (0.99, 1.99) THEN '1 Song'\n",
    "        ELSE '2+ Songs'\n",
    "    END AS number_of_songs,\n",
    "    -- Find the average value of the total field\n",
    "    AVG(total) AS average_total\n",
    "FROM store.invoice\n",
    "-- Group by the field you built using CASE\n",
    "GROUP BY number_of_songs;"
   ]
  },
  {
   "cell_type": "markdown",
   "id": "16a3536a-5b44-4be7-bb3c-852d53ba5eda",
   "metadata": {},
   "source": [
    "### Validating data quality\n",
    "Data isn't always very clean. Both the composer field in the track table and the name in the artist table contain information about a song's author. You'd like to validate the data quality in these fields for each track. To do this, you'll use a CASE statement and the columns from JOIN'ed tables. Go get 'em."
   ]
  },
  {
   "cell_type": "code",
   "execution_count": null,
   "id": "eb272b6b-f38d-4a3f-b245-02a5f369d87c",
   "metadata": {},
   "outputs": [],
   "source": [
    "SELECT\n",
    "    track.name,\n",
    "    track.composer,\n",
    "    artist.name,\n",
    "    CASE\n",
    "    \t-- A 'Track Lacks Detail' if the composer field is NULL\n",
    "        WHEN track.composer IS NULL THEN 'Track Lacks Detail'\n",
    "        -- Use the composer and artist name to determine if a match exists\n",
    "        WHEN track.composer = artist.name THEN 'Matching Artist'\n",
    "        ELSE 'Inconsistent Data'\n",
    "    END AS data_quality\n",
    "FROM store.track AS track\n",
    "LEFT JOIN store.album AS album ON track.album_id = album.album_id\n",
    "-- Join the album table to artist using the artist_id field\n",
    "LEFT JOIN store.artist AS artist ON album.artist_id = artist.artist_id;"
   ]
  },
  {
   "cell_type": "code",
   "execution_count": null,
   "id": "657f1b7f-0963-4399-99ea-d98c7daa6a00",
   "metadata": {},
   "outputs": [],
   "source": []
  }
 ],
 "metadata": {
  "kernelspec": {
   "display_name": "Python 3 (ipykernel)",
   "language": "python",
   "name": "python3"
  },
  "language_info": {
   "codemirror_mode": {
    "name": "ipython",
    "version": 3
   },
   "file_extension": ".py",
   "mimetype": "text/x-python",
   "name": "python",
   "nbconvert_exporter": "python",
   "pygments_lexer": "ipython3",
   "version": "3.9.13"
  }
 },
 "nbformat": 4,
 "nbformat_minor": 5
}
